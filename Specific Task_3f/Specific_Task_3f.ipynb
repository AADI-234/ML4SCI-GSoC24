{
 "cells": [
  {
   "cell_type": "code",
   "execution_count": 1,
   "id": "3a7d8028",
   "metadata": {
    "execution": {
     "iopub.execute_input": "2024-04-01T20:41:16.806162Z",
     "iopub.status.busy": "2024-04-01T20:41:16.805866Z",
     "iopub.status.idle": "2024-04-01T20:42:54.153387Z",
     "shell.execute_reply": "2024-04-01T20:42:54.152221Z"
    },
    "papermill": {
     "duration": 97.358068,
     "end_time": "2024-04-01T20:42:54.155874",
     "exception": false,
     "start_time": "2024-04-01T20:41:16.797806",
     "status": "completed"
    },
    "tags": []
   },
   "outputs": [
    {
     "name": "stdout",
     "output_type": "stream",
     "text": [
      "Collecting torchlars\r\n",
      "  Downloading torchlars-0.1.2.tar.gz (6.5 kB)\r\n",
      "  Preparing metadata (setup.py) ... \u001b[?25l-\b \b\\\b \bdone\r\n",
      "\u001b[?25hRequirement already satisfied: torch in /opt/conda/lib/python3.10/site-packages (from torchlars) (2.1.2)\r\n",
      "Requirement already satisfied: filelock in /opt/conda/lib/python3.10/site-packages (from torch->torchlars) (3.13.1)\r\n",
      "Requirement already satisfied: typing-extensions in /opt/conda/lib/python3.10/site-packages (from torch->torchlars) (4.9.0)\r\n",
      "Requirement already satisfied: sympy in /opt/conda/lib/python3.10/site-packages (from torch->torchlars) (1.12)\r\n",
      "Requirement already satisfied: networkx in /opt/conda/lib/python3.10/site-packages (from torch->torchlars) (3.2.1)\r\n",
      "Requirement already satisfied: jinja2 in /opt/conda/lib/python3.10/site-packages (from torch->torchlars) (3.1.2)\r\n",
      "Requirement already satisfied: fsspec in /opt/conda/lib/python3.10/site-packages (from torch->torchlars) (2024.2.0)\r\n",
      "Requirement already satisfied: MarkupSafe>=2.0 in /opt/conda/lib/python3.10/site-packages (from jinja2->torch->torchlars) (2.1.3)\r\n",
      "Requirement already satisfied: mpmath>=0.19 in /opt/conda/lib/python3.10/site-packages (from sympy->torch->torchlars) (1.3.0)\r\n",
      "Building wheels for collected packages: torchlars\r\n",
      "  Building wheel for torchlars (setup.py) ... \u001b[?25l-\b \b\\\b \b|\b \b/\b \b-\b \b\\\b \b|\b \bdone\r\n",
      "\u001b[?25h  Created wheel for torchlars: filename=torchlars-0.1.2-cp310-cp310-linux_x86_64.whl size=170645 sha256=9ac4cf7ec5ff6a6ce99f0898b1ab4e2cc402a4fe30ecdd4445fc2f5f4279bf0e\r\n",
      "  Stored in directory: /root/.cache/pip/wheels/b4/91/c8/c631927a6e259206b572e7461e6d049b4379d27523c1065e30\r\n",
      "Successfully built torchlars\r\n",
      "Installing collected packages: torchlars\r\n",
      "Successfully installed torchlars-0.1.2\r\n"
     ]
    }
   ],
   "source": [
    "!pip install torchlars"
   ]
  },
  {
   "cell_type": "code",
   "execution_count": 2,
   "id": "83206113",
   "metadata": {
    "execution": {
     "iopub.execute_input": "2024-04-01T20:42:54.173534Z",
     "iopub.status.busy": "2024-04-01T20:42:54.172940Z",
     "iopub.status.idle": "2024-04-01T20:43:04.457042Z",
     "shell.execute_reply": "2024-04-01T20:43:04.456126Z"
    },
    "papermill": {
     "duration": 10.295576,
     "end_time": "2024-04-01T20:43:04.459561",
     "exception": false,
     "start_time": "2024-04-01T20:42:54.163985",
     "status": "completed"
    },
    "tags": []
   },
   "outputs": [],
   "source": [
    "import os\n",
    "import cv2\n",
    "import h5py\n",
    "import pyarrow.parquet as pq\n",
    "import pandas as pd\n",
    "import numpy as np\n",
    "import matplotlib.pyplot as plt\n",
    "import seaborn as sns\n",
    "from tqdm import tqdm\n",
    "from statistics import mean\n",
    "from sklearn.metrics import accuracy_score, roc_auc_score\n",
    "from sklearn.model_selection import StratifiedKFold, train_test_split\n",
    "from sklearn.preprocessing import StandardScaler\n",
    "\n",
    "import torch\n",
    "import torch.nn as nn\n",
    "import torch.optim as optim\n",
    "from torch.optim import lr_scheduler\n",
    "from torchlars import LARS\n",
    "from sklearn.metrics import roc_auc_score\n",
    "from transformers import AutoModel, AutoTokenizer\n",
    "import torchmetrics\n",
    "from torch.utils.data import DataLoader, TensorDataset\n",
    "from torch.optim.lr_scheduler import CosineAnnealingLR, StepLR,ReduceLROnPlateau\n",
    "from torch.utils.data.sampler import SubsetRandomSampler, BatchSampler, Sampler\n",
    "from torch.optim import Adam, SGD\n",
    "from torchvision import transforms, models\n",
    "from torch.utils.data import Dataset\n",
    "from torchvision.transforms import Resize, ToTensor\n",
    "from torch.cuda.amp import autocast, GradScaler\n",
    "import torch.nn.functional as F\n",
    "from torch.nn.utils import clip_grad_norm_\n",
    "\n",
    "torch.manual_seed(42)\n",
    "np.random.seed(42)\n",
    "torch.cuda.manual_seed(42)"
   ]
  },
  {
   "cell_type": "code",
   "execution_count": 3,
   "id": "0cb34c51",
   "metadata": {
    "execution": {
     "iopub.execute_input": "2024-04-01T20:43:04.478676Z",
     "iopub.status.busy": "2024-04-01T20:43:04.478193Z",
     "iopub.status.idle": "2024-04-01T20:43:04.552677Z",
     "shell.execute_reply": "2024-04-01T20:43:04.551660Z"
    },
    "papermill": {
     "duration": 0.086071,
     "end_time": "2024-04-01T20:43:04.554970",
     "exception": false,
     "start_time": "2024-04-01T20:43:04.468899",
     "status": "completed"
    },
    "tags": []
   },
   "outputs": [
    {
     "name": "stdout",
     "output_type": "stream",
     "text": [
      "Using 2 GPUs\n"
     ]
    }
   ],
   "source": [
    "gpus = torch.cuda.device_count()\n",
    "if gpus <= 1:\n",
    "    device = torch.device(\"cuda:0\" if torch.cuda.is_available() else \"cpu\")\n",
    "    print(f'Using {gpus} GPU')\n",
    "else:\n",
    "    device = torch.device(\"cuda\" if torch.cuda.is_available() else \"cpu\")\n",
    "    print(f'Using {gpus} GPUs')\n"
   ]
  },
  {
   "cell_type": "code",
   "execution_count": 4,
   "id": "4d933b9d",
   "metadata": {
    "execution": {
     "iopub.execute_input": "2024-04-01T20:43:04.572700Z",
     "iopub.status.busy": "2024-04-01T20:43:04.572399Z",
     "iopub.status.idle": "2024-04-01T20:43:04.577283Z",
     "shell.execute_reply": "2024-04-01T20:43:04.576527Z"
    },
    "papermill": {
     "duration": 0.016151,
     "end_time": "2024-04-01T20:43:04.579399",
     "exception": false,
     "start_time": "2024-04-01T20:43:04.563248",
     "status": "completed"
    },
    "tags": []
   },
   "outputs": [
    {
     "name": "stdout",
     "output_type": "stream",
     "text": [
      "Using full precision\n"
     ]
    }
   ],
   "source": [
    "MIX = False\n",
    "if MIX:\n",
    "    scaler = GradScaler()\n",
    "    print('Mixed precision enabled')\n",
    "else:\n",
    "    print('Using full precision')"
   ]
  },
  {
   "cell_type": "code",
   "execution_count": 5,
   "id": "c9120648",
   "metadata": {
    "execution": {
     "iopub.execute_input": "2024-04-01T20:43:04.596561Z",
     "iopub.status.busy": "2024-04-01T20:43:04.595976Z",
     "iopub.status.idle": "2024-04-01T20:45:43.547282Z",
     "shell.execute_reply": "2024-04-01T20:45:43.546467Z"
    },
    "papermill": {
     "duration": 158.962725,
     "end_time": "2024-04-01T20:45:43.549777",
     "exception": false,
     "start_time": "2024-04-01T20:43:04.587052",
     "status": "completed"
    },
    "tags": []
   },
   "outputs": [],
   "source": [
    "columns_to_keep = list(range(22)) \n",
    "dataset = pd.read_csv(\"/kaggle/input/vit-data/HIGGS.csv/HIGGS.csv\", usecols=columns_to_keep)"
   ]
  },
  {
   "cell_type": "code",
   "execution_count": 6,
   "id": "81a37481",
   "metadata": {
    "execution": {
     "iopub.execute_input": "2024-04-01T20:45:43.568190Z",
     "iopub.status.busy": "2024-04-01T20:45:43.567906Z",
     "iopub.status.idle": "2024-04-01T20:45:43.600489Z",
     "shell.execute_reply": "2024-04-01T20:45:43.599631Z"
    },
    "papermill": {
     "duration": 0.04331,
     "end_time": "2024-04-01T20:45:43.602478",
     "exception": false,
     "start_time": "2024-04-01T20:45:43.559168",
     "status": "completed"
    },
    "tags": []
   },
   "outputs": [
    {
     "data": {
      "text/html": [
       "<div>\n",
       "<style scoped>\n",
       "    .dataframe tbody tr th:only-of-type {\n",
       "        vertical-align: middle;\n",
       "    }\n",
       "\n",
       "    .dataframe tbody tr th {\n",
       "        vertical-align: top;\n",
       "    }\n",
       "\n",
       "    .dataframe thead th {\n",
       "        text-align: right;\n",
       "    }\n",
       "</style>\n",
       "<table border=\"1\" class=\"dataframe\">\n",
       "  <thead>\n",
       "    <tr style=\"text-align: right;\">\n",
       "      <th></th>\n",
       "      <th>1.000000000000000000e+00</th>\n",
       "      <th>8.692932128906250000e-01</th>\n",
       "      <th>-6.350818276405334473e-01</th>\n",
       "      <th>2.256902605295181274e-01</th>\n",
       "      <th>3.274700641632080078e-01</th>\n",
       "      <th>-6.899932026863098145e-01</th>\n",
       "      <th>7.542022466659545898e-01</th>\n",
       "      <th>-2.485731393098831177e-01</th>\n",
       "      <th>-1.092063903808593750e+00</th>\n",
       "      <th>0.000000000000000000e+00</th>\n",
       "      <th>...</th>\n",
       "      <th>9.303491115570068359e-01</th>\n",
       "      <th>1.107436060905456543e+00</th>\n",
       "      <th>1.138904333114624023e+00</th>\n",
       "      <th>-1.578198313713073730e+00</th>\n",
       "      <th>-1.046985387802124023e+00</th>\n",
       "      <th>0.000000000000000000e+00.1</th>\n",
       "      <th>6.579295396804809570e-01</th>\n",
       "      <th>-1.045456994324922562e-02</th>\n",
       "      <th>-4.576716944575309753e-02</th>\n",
       "      <th>3.101961374282836914e+00</th>\n",
       "    </tr>\n",
       "  </thead>\n",
       "  <tbody>\n",
       "    <tr>\n",
       "      <th>0</th>\n",
       "      <td>1.0</td>\n",
       "      <td>0.907542</td>\n",
       "      <td>0.329147</td>\n",
       "      <td>0.359412</td>\n",
       "      <td>1.497970</td>\n",
       "      <td>-0.313010</td>\n",
       "      <td>1.095531</td>\n",
       "      <td>-0.557525</td>\n",
       "      <td>-1.588230</td>\n",
       "      <td>2.173076</td>\n",
       "      <td>...</td>\n",
       "      <td>1.271015</td>\n",
       "      <td>2.214872</td>\n",
       "      <td>0.499994</td>\n",
       "      <td>-1.261432</td>\n",
       "      <td>0.732156</td>\n",
       "      <td>0.000000</td>\n",
       "      <td>0.398701</td>\n",
       "      <td>-1.138930</td>\n",
       "      <td>-0.000819</td>\n",
       "      <td>0.000000</td>\n",
       "    </tr>\n",
       "    <tr>\n",
       "      <th>1</th>\n",
       "      <td>1.0</td>\n",
       "      <td>0.798835</td>\n",
       "      <td>1.470639</td>\n",
       "      <td>-1.635975</td>\n",
       "      <td>0.453773</td>\n",
       "      <td>0.425629</td>\n",
       "      <td>1.104875</td>\n",
       "      <td>1.282322</td>\n",
       "      <td>1.381664</td>\n",
       "      <td>0.000000</td>\n",
       "      <td>...</td>\n",
       "      <td>-0.819690</td>\n",
       "      <td>2.214872</td>\n",
       "      <td>0.993490</td>\n",
       "      <td>0.356080</td>\n",
       "      <td>-0.208778</td>\n",
       "      <td>2.548224</td>\n",
       "      <td>1.256955</td>\n",
       "      <td>1.128848</td>\n",
       "      <td>0.900461</td>\n",
       "      <td>0.000000</td>\n",
       "    </tr>\n",
       "    <tr>\n",
       "      <th>2</th>\n",
       "      <td>0.0</td>\n",
       "      <td>1.344385</td>\n",
       "      <td>-0.876626</td>\n",
       "      <td>0.935913</td>\n",
       "      <td>1.992050</td>\n",
       "      <td>0.882454</td>\n",
       "      <td>1.786066</td>\n",
       "      <td>-1.646778</td>\n",
       "      <td>-0.942383</td>\n",
       "      <td>0.000000</td>\n",
       "      <td>...</td>\n",
       "      <td>0.736159</td>\n",
       "      <td>2.214872</td>\n",
       "      <td>1.298720</td>\n",
       "      <td>-1.430738</td>\n",
       "      <td>-0.364658</td>\n",
       "      <td>0.000000</td>\n",
       "      <td>0.745313</td>\n",
       "      <td>-0.678379</td>\n",
       "      <td>-1.360356</td>\n",
       "      <td>0.000000</td>\n",
       "    </tr>\n",
       "    <tr>\n",
       "      <th>3</th>\n",
       "      <td>1.0</td>\n",
       "      <td>1.105009</td>\n",
       "      <td>0.321356</td>\n",
       "      <td>1.522401</td>\n",
       "      <td>0.882808</td>\n",
       "      <td>-1.205349</td>\n",
       "      <td>0.681466</td>\n",
       "      <td>-1.070464</td>\n",
       "      <td>-0.921871</td>\n",
       "      <td>0.000000</td>\n",
       "      <td>...</td>\n",
       "      <td>0.971407</td>\n",
       "      <td>2.214872</td>\n",
       "      <td>0.596761</td>\n",
       "      <td>-0.350273</td>\n",
       "      <td>0.631194</td>\n",
       "      <td>0.000000</td>\n",
       "      <td>0.479999</td>\n",
       "      <td>-0.373566</td>\n",
       "      <td>0.113041</td>\n",
       "      <td>0.000000</td>\n",
       "    </tr>\n",
       "    <tr>\n",
       "      <th>4</th>\n",
       "      <td>0.0</td>\n",
       "      <td>1.595839</td>\n",
       "      <td>-0.607811</td>\n",
       "      <td>0.007075</td>\n",
       "      <td>1.818450</td>\n",
       "      <td>-0.111906</td>\n",
       "      <td>0.847550</td>\n",
       "      <td>-0.566437</td>\n",
       "      <td>1.581239</td>\n",
       "      <td>2.173076</td>\n",
       "      <td>...</td>\n",
       "      <td>1.426367</td>\n",
       "      <td>0.000000</td>\n",
       "      <td>0.921661</td>\n",
       "      <td>-1.190432</td>\n",
       "      <td>-1.615589</td>\n",
       "      <td>0.000000</td>\n",
       "      <td>0.651114</td>\n",
       "      <td>-0.654227</td>\n",
       "      <td>-1.274345</td>\n",
       "      <td>3.101961</td>\n",
       "    </tr>\n",
       "  </tbody>\n",
       "</table>\n",
       "<p>5 rows × 22 columns</p>\n",
       "</div>"
      ],
      "text/plain": [
       "   1.000000000000000000e+00  8.692932128906250000e-01  \\\n",
       "0                       1.0                  0.907542   \n",
       "1                       1.0                  0.798835   \n",
       "2                       0.0                  1.344385   \n",
       "3                       1.0                  1.105009   \n",
       "4                       0.0                  1.595839   \n",
       "\n",
       "   -6.350818276405334473e-01  2.256902605295181274e-01  \\\n",
       "0                   0.329147                  0.359412   \n",
       "1                   1.470639                 -1.635975   \n",
       "2                  -0.876626                  0.935913   \n",
       "3                   0.321356                  1.522401   \n",
       "4                  -0.607811                  0.007075   \n",
       "\n",
       "   3.274700641632080078e-01  -6.899932026863098145e-01  \\\n",
       "0                  1.497970                  -0.313010   \n",
       "1                  0.453773                   0.425629   \n",
       "2                  1.992050                   0.882454   \n",
       "3                  0.882808                  -1.205349   \n",
       "4                  1.818450                  -0.111906   \n",
       "\n",
       "   7.542022466659545898e-01  -2.485731393098831177e-01  \\\n",
       "0                  1.095531                  -0.557525   \n",
       "1                  1.104875                   1.282322   \n",
       "2                  1.786066                  -1.646778   \n",
       "3                  0.681466                  -1.070464   \n",
       "4                  0.847550                  -0.566437   \n",
       "\n",
       "   -1.092063903808593750e+00  0.000000000000000000e+00  ...  \\\n",
       "0                  -1.588230                  2.173076  ...   \n",
       "1                   1.381664                  0.000000  ...   \n",
       "2                  -0.942383                  0.000000  ...   \n",
       "3                  -0.921871                  0.000000  ...   \n",
       "4                   1.581239                  2.173076  ...   \n",
       "\n",
       "   9.303491115570068359e-01  1.107436060905456543e+00  \\\n",
       "0                  1.271015                  2.214872   \n",
       "1                 -0.819690                  2.214872   \n",
       "2                  0.736159                  2.214872   \n",
       "3                  0.971407                  2.214872   \n",
       "4                  1.426367                  0.000000   \n",
       "\n",
       "   1.138904333114624023e+00  -1.578198313713073730e+00  \\\n",
       "0                  0.499994                  -1.261432   \n",
       "1                  0.993490                   0.356080   \n",
       "2                  1.298720                  -1.430738   \n",
       "3                  0.596761                  -0.350273   \n",
       "4                  0.921661                  -1.190432   \n",
       "\n",
       "   -1.046985387802124023e+00  0.000000000000000000e+00.1  \\\n",
       "0                   0.732156                    0.000000   \n",
       "1                  -0.208778                    2.548224   \n",
       "2                  -0.364658                    0.000000   \n",
       "3                   0.631194                    0.000000   \n",
       "4                  -1.615589                    0.000000   \n",
       "\n",
       "   6.579295396804809570e-01  -1.045456994324922562e-02  \\\n",
       "0                  0.398701                  -1.138930   \n",
       "1                  1.256955                   1.128848   \n",
       "2                  0.745313                  -0.678379   \n",
       "3                  0.479999                  -0.373566   \n",
       "4                  0.651114                  -0.654227   \n",
       "\n",
       "   -4.576716944575309753e-02  3.101961374282836914e+00  \n",
       "0                  -0.000819                  0.000000  \n",
       "1                   0.900461                  0.000000  \n",
       "2                  -1.360356                  0.000000  \n",
       "3                   0.113041                  0.000000  \n",
       "4                  -1.274345                  3.101961  \n",
       "\n",
       "[5 rows x 22 columns]"
      ]
     },
     "execution_count": 6,
     "metadata": {},
     "output_type": "execute_result"
    }
   ],
   "source": [
    "dataset.head()"
   ]
  },
  {
   "cell_type": "code",
   "execution_count": 7,
   "id": "fc67e341",
   "metadata": {
    "execution": {
     "iopub.execute_input": "2024-04-01T20:45:43.621705Z",
     "iopub.status.busy": "2024-04-01T20:45:43.621445Z",
     "iopub.status.idle": "2024-04-01T20:45:43.646505Z",
     "shell.execute_reply": "2024-04-01T20:45:43.645608Z"
    },
    "papermill": {
     "duration": 0.036859,
     "end_time": "2024-04-01T20:45:43.648334",
     "exception": false,
     "start_time": "2024-04-01T20:45:43.611475",
     "status": "completed"
    },
    "tags": []
   },
   "outputs": [
    {
     "name": "stdout",
     "output_type": "stream",
     "text": [
      "<class 'pandas.core.frame.DataFrame'>\n",
      "RangeIndex: 10999999 entries, 0 to 10999998\n",
      "Data columns (total 22 columns):\n",
      " #   Column                      Dtype  \n",
      "---  ------                      -----  \n",
      " 0   1.000000000000000000e+00    float64\n",
      " 1   8.692932128906250000e-01    float64\n",
      " 2   -6.350818276405334473e-01   float64\n",
      " 3   2.256902605295181274e-01    float64\n",
      " 4   3.274700641632080078e-01    float64\n",
      " 5   -6.899932026863098145e-01   float64\n",
      " 6   7.542022466659545898e-01    float64\n",
      " 7   -2.485731393098831177e-01   float64\n",
      " 8   -1.092063903808593750e+00   float64\n",
      " 9   0.000000000000000000e+00    float64\n",
      " 10  1.374992132186889648e+00    float64\n",
      " 11  -6.536741852760314941e-01   float64\n",
      " 12  9.303491115570068359e-01    float64\n",
      " 13  1.107436060905456543e+00    float64\n",
      " 14  1.138904333114624023e+00    float64\n",
      " 15  -1.578198313713073730e+00   float64\n",
      " 16  -1.046985387802124023e+00   float64\n",
      " 17  0.000000000000000000e+00.1  float64\n",
      " 18  6.579295396804809570e-01    float64\n",
      " 19  -1.045456994324922562e-02   float64\n",
      " 20  -4.576716944575309753e-02   float64\n",
      " 21  3.101961374282836914e+00    float64\n",
      "dtypes: float64(22)\n",
      "memory usage: 1.8 GB\n"
     ]
    }
   ],
   "source": [
    "dataset.info()"
   ]
  },
  {
   "cell_type": "code",
   "execution_count": 8,
   "id": "7aa3e374",
   "metadata": {
    "execution": {
     "iopub.execute_input": "2024-04-01T20:45:43.666650Z",
     "iopub.status.busy": "2024-04-01T20:45:43.666376Z",
     "iopub.status.idle": "2024-04-01T20:45:43.670774Z",
     "shell.execute_reply": "2024-04-01T20:45:43.669862Z"
    },
    "papermill": {
     "duration": 0.016252,
     "end_time": "2024-04-01T20:45:43.672841",
     "exception": false,
     "start_time": "2024-04-01T20:45:43.656589",
     "status": "completed"
    },
    "tags": []
   },
   "outputs": [],
   "source": [
    "y = dataset.iloc[:,0]  \n",
    "X = dataset.iloc[:, 1:]"
   ]
  },
  {
   "cell_type": "code",
   "execution_count": 9,
   "id": "7bc12a76",
   "metadata": {
    "execution": {
     "iopub.execute_input": "2024-04-01T20:45:43.690633Z",
     "iopub.status.busy": "2024-04-01T20:45:43.690368Z",
     "iopub.status.idle": "2024-04-01T20:45:43.858655Z",
     "shell.execute_reply": "2024-04-01T20:45:43.857670Z"
    },
    "papermill": {
     "duration": 0.179513,
     "end_time": "2024-04-01T20:45:43.860810",
     "exception": false,
     "start_time": "2024-04-01T20:45:43.681297",
     "status": "completed"
    },
    "tags": []
   },
   "outputs": [
    {
     "name": "stdout",
     "output_type": "stream",
     "text": [
      "Class Distribution:\n",
      "1.000000000000000000e+00\n",
      "1.0    5829122\n",
      "0.0    5170877\n",
      "Name: count, dtype: int64\n"
     ]
    }
   ],
   "source": [
    "class_distribution = y.value_counts()\n",
    "print(\"Class Distribution:\")\n",
    "print(class_distribution)"
   ]
  },
  {
   "cell_type": "code",
   "execution_count": 10,
   "id": "d1193364",
   "metadata": {
    "execution": {
     "iopub.execute_input": "2024-04-01T20:45:43.879671Z",
     "iopub.status.busy": "2024-04-01T20:45:43.879402Z",
     "iopub.status.idle": "2024-04-01T20:45:47.227865Z",
     "shell.execute_reply": "2024-04-01T20:45:47.227044Z"
    },
    "papermill": {
     "duration": 3.359929,
     "end_time": "2024-04-01T20:45:47.230172",
     "exception": false,
     "start_time": "2024-04-01T20:45:43.870243",
     "status": "completed"
    },
    "tags": []
   },
   "outputs": [
    {
     "name": "stderr",
     "output_type": "stream",
     "text": [
      "/opt/conda/lib/python3.10/site-packages/numpy/core/fromnumeric.py:3643: FutureWarning: The behavior of DataFrame.std with axis=None is deprecated, in a future version this will reduce over both axes and return a scalar. To retain the old behavior, pass axis=0 (or do not pass axis)\n",
      "  return std(axis=axis, dtype=dtype, out=out, ddof=ddof, **kwargs)\n"
     ]
    }
   ],
   "source": [
    "X = (X - np.mean(X))/np.std(X)"
   ]
  },
  {
   "cell_type": "code",
   "execution_count": 11,
   "id": "fc1f4257",
   "metadata": {
    "execution": {
     "iopub.execute_input": "2024-04-01T20:45:47.248572Z",
     "iopub.status.busy": "2024-04-01T20:45:47.248276Z",
     "iopub.status.idle": "2024-04-01T20:45:54.726807Z",
     "shell.execute_reply": "2024-04-01T20:45:54.725781Z"
    },
    "papermill": {
     "duration": 7.490264,
     "end_time": "2024-04-01T20:45:54.729237",
     "exception": false,
     "start_time": "2024-04-01T20:45:47.238973",
     "status": "completed"
    },
    "tags": []
   },
   "outputs": [],
   "source": [
    "X_train, X_val, y_train, y_val = train_test_split(X, y, test_size=100000, stratify = y,random_state=42)"
   ]
  },
  {
   "cell_type": "code",
   "execution_count": 12,
   "id": "9edfaff1",
   "metadata": {
    "execution": {
     "iopub.execute_input": "2024-04-01T20:45:54.748524Z",
     "iopub.status.busy": "2024-04-01T20:45:54.748227Z",
     "iopub.status.idle": "2024-04-01T20:45:54.903207Z",
     "shell.execute_reply": "2024-04-01T20:45:54.902290Z"
    },
    "papermill": {
     "duration": 0.167121,
     "end_time": "2024-04-01T20:45:54.905786",
     "exception": false,
     "start_time": "2024-04-01T20:45:54.738665",
     "status": "completed"
    },
    "tags": []
   },
   "outputs": [],
   "source": [
    "X_train = torch.tensor(X_train.values, dtype=torch.float32)\n",
    "X_val = torch.tensor(X_val.values, dtype=torch.float32)\n",
    "y_train = torch.tensor(y_train.values, dtype=torch.float32)\n",
    "y_val = torch.tensor(y_val.values, dtype=torch.float32)"
   ]
  },
  {
   "cell_type": "code",
   "execution_count": 13,
   "id": "bc1457f8",
   "metadata": {
    "execution": {
     "iopub.execute_input": "2024-04-01T20:45:54.925435Z",
     "iopub.status.busy": "2024-04-01T20:45:54.925157Z",
     "iopub.status.idle": "2024-04-01T20:45:54.929830Z",
     "shell.execute_reply": "2024-04-01T20:45:54.929009Z"
    },
    "papermill": {
     "duration": 0.015914,
     "end_time": "2024-04-01T20:45:54.931766",
     "exception": false,
     "start_time": "2024-04-01T20:45:54.915852",
     "status": "completed"
    },
    "tags": []
   },
   "outputs": [],
   "source": [
    "class CFG:\n",
    "    lr = 1e-3\n",
    "    weight_decay = 5e-4\n",
    "    input_dim = 21\n",
    "    latent_dim = 64\n",
    "    num_classes = 1\n",
    "    num_layers = 2\n",
    "    num_heads = 3\n",
    "    dropout = 0.1\n",
    "    num_epochs = 15\n",
    "    batch_size = 1024"
   ]
  },
  {
   "cell_type": "code",
   "execution_count": 14,
   "id": "f266a3d5",
   "metadata": {
    "execution": {
     "iopub.execute_input": "2024-04-01T20:45:54.950772Z",
     "iopub.status.busy": "2024-04-01T20:45:54.950480Z",
     "iopub.status.idle": "2024-04-01T20:45:54.957045Z",
     "shell.execute_reply": "2024-04-01T20:45:54.956254Z"
    },
    "papermill": {
     "duration": 0.018322,
     "end_time": "2024-04-01T20:45:54.959063",
     "exception": false,
     "start_time": "2024-04-01T20:45:54.940741",
     "status": "completed"
    },
    "tags": []
   },
   "outputs": [],
   "source": [
    "train_dataset = TensorDataset(X_train, y_train)\n",
    "val_dataset = TensorDataset(X_val, y_val)\n",
    "train_loader = DataLoader(train_dataset, batch_size=CFG.batch_size, shuffle=True)\n",
    "val_loader = DataLoader(val_dataset, batch_size=CFG.batch_size)"
   ]
  },
  {
   "cell_type": "code",
   "execution_count": 15,
   "id": "a51a1ea1",
   "metadata": {
    "execution": {
     "iopub.execute_input": "2024-04-01T20:45:54.977937Z",
     "iopub.status.busy": "2024-04-01T20:45:54.977580Z",
     "iopub.status.idle": "2024-04-01T20:45:54.987566Z",
     "shell.execute_reply": "2024-04-01T20:45:54.986760Z"
    },
    "papermill": {
     "duration": 0.02145,
     "end_time": "2024-04-01T20:45:54.989371",
     "exception": false,
     "start_time": "2024-04-01T20:45:54.967921",
     "status": "completed"
    },
    "tags": []
   },
   "outputs": [],
   "source": [
    "class TransformerAutoencoderClassifier(nn.Module):\n",
    "    def __init__(self, input_dim=21, latent_dim=64, num_classes=1, num_layers=2, num_heads=3, dropout=0.1):\n",
    "        super(TransformerAutoencoderClassifier, self).__init__()\n",
    "        \n",
    "        self.input_dim = input_dim\n",
    "        self.num_layers = num_layers\n",
    "        self.num_heads = num_heads\n",
    "        \n",
    "        self.encoder_layers = nn.TransformerEncoderLayer(d_model=input_dim, nhead=num_heads)\n",
    "        self.encoder = nn.TransformerEncoder(self.encoder_layers, num_layers=num_layers)\n",
    "        self.decoder_layers = nn.TransformerDecoderLayer(d_model=input_dim, nhead=num_heads)\n",
    "        self.decoder = nn.TransformerDecoder(self.decoder_layers, num_layers=num_layers)\n",
    "        self.bottleneck = nn.Linear(input_dim, latent_dim)\n",
    "        self.classifier = nn.Linear(latent_dim, num_classes)\n",
    "        self.dropout = nn.Dropout(dropout)\n",
    "\n",
    "    def forward(self, x):\n",
    "        \n",
    "        tgt_mask = self.generate_square_subsequent_mask(x.size(0))\n",
    "        encoder_output = self.encoder(x)\n",
    "        decoder_output = self.decoder(x, encoder_output, tgt_mask=tgt_mask)\n",
    "        bottleneck_output = self.bottleneck(encoder_output)\n",
    "        classification_output = torch.sigmoid(self.classifier(bottleneck_output))\n",
    "        return decoder_output, classification_output\n",
    "\n",
    "    def generate_square_subsequent_mask(self, sz):\n",
    "        mask = (torch.triu(torch.ones(sz, sz)) == 1).transpose(0, 1)\n",
    "        mask = mask.float().masked_fill(mask == 0, float('-inf')).masked_fill(mask == 1, float(0.0))\n",
    "        return mask"
   ]
  },
  {
   "cell_type": "code",
   "execution_count": 16,
   "id": "5add0bfd",
   "metadata": {
    "execution": {
     "iopub.execute_input": "2024-04-01T20:45:55.007563Z",
     "iopub.status.busy": "2024-04-01T20:45:55.007283Z",
     "iopub.status.idle": "2024-04-01T20:45:55.206320Z",
     "shell.execute_reply": "2024-04-01T20:45:55.205382Z"
    },
    "papermill": {
     "duration": 0.210524,
     "end_time": "2024-04-01T20:45:55.208475",
     "exception": false,
     "start_time": "2024-04-01T20:45:54.997951",
     "status": "completed"
    },
    "tags": []
   },
   "outputs": [
    {
     "name": "stderr",
     "output_type": "stream",
     "text": [
      "/opt/conda/lib/python3.10/site-packages/torch/nn/modules/transformer.py:282: UserWarning: enable_nested_tensor is True, but self.use_nested_tensor is False because encoder_layer.self_attn.batch_first was not True(use batch_first for better inference performance)\n",
      "  warnings.warn(f\"enable_nested_tensor is True, but self.use_nested_tensor is False because {why_not_sparsity_fast_path}\")\n"
     ]
    }
   ],
   "source": [
    "model = TransformerAutoencoderClassifier(\n",
    "    input_dim=CFG.input_dim,\n",
    "    latent_dim=CFG.latent_dim,\n",
    "    num_classes=CFG.num_classes,\n",
    "    num_layers=CFG.num_layers,\n",
    "    num_heads=CFG.num_heads,\n",
    "    dropout=CFG.dropout\n",
    ").to(device)"
   ]
  },
  {
   "cell_type": "code",
   "execution_count": 17,
   "id": "7e12ad01",
   "metadata": {
    "execution": {
     "iopub.execute_input": "2024-04-01T20:45:55.227018Z",
     "iopub.status.busy": "2024-04-01T20:45:55.226694Z",
     "iopub.status.idle": "2024-04-01T20:45:55.232729Z",
     "shell.execute_reply": "2024-04-01T20:45:55.231930Z"
    },
    "papermill": {
     "duration": 0.017308,
     "end_time": "2024-04-01T20:45:55.234618",
     "exception": false,
     "start_time": "2024-04-01T20:45:55.217310",
     "status": "completed"
    },
    "tags": []
   },
   "outputs": [],
   "source": [
    "criterion_autoencoder = nn.MSELoss()\n",
    "criterion_classification = nn.BCELoss()\n",
    "optimizer = torch.optim.AdamW(model.parameters(), lr=CFG.lr,weight_decay = CFG.weight_decay)\n",
    "scheduler = ReduceLROnPlateau(optimizer, mode='min', patience=1, factor=0.4, threshold=1e-2, verbose=True)"
   ]
  },
  {
   "cell_type": "code",
   "execution_count": 18,
   "id": "41918bd9",
   "metadata": {
    "execution": {
     "iopub.execute_input": "2024-04-01T20:45:55.252977Z",
     "iopub.status.busy": "2024-04-01T20:45:55.252684Z",
     "iopub.status.idle": "2024-04-01T20:45:58.968215Z",
     "shell.execute_reply": "2024-04-01T20:45:58.967109Z"
    },
    "papermill": {
     "duration": 3.727315,
     "end_time": "2024-04-01T20:45:58.970576",
     "exception": false,
     "start_time": "2024-04-01T20:45:55.243261",
     "status": "completed"
    },
    "tags": []
   },
   "outputs": [
    {
     "name": "stderr",
     "output_type": "stream",
     "text": [
      "                                                                           \r"
     ]
    },
    {
     "name": "stdout",
     "output_type": "stream",
     "text": [
      "At 0th epoch without training Validation Loss: 0.6688414003167834, Validation AUC-ROC: 0.5356739359430778, Validation Accuracy: 53.334\n"
     ]
    }
   ],
   "source": [
    "    model.eval()\n",
    "    val_running_loss = 0\n",
    "    correct_val = 0\n",
    "    total_val = 0\n",
    "    y_true = []\n",
    "    y_scores = []\n",
    "    \n",
    "    with torch.no_grad():\n",
    "        with tqdm(val_loader, desc=\"Validation\", leave=False) as val_loader_with_progress:\n",
    "            for val_inputs, val_labels in val_loader_with_progress:\n",
    "                val_inputs, val_labels = val_inputs.to(device), val_labels.to(device)\n",
    "                decoder_output, classification_output = model(val_inputs)\n",
    "                autoencoder_loss = criterion_autoencoder(decoder_output, val_inputs)\n",
    "                classification_loss = criterion_classification(classification_output.squeeze(), val_labels.float())\n",
    "                outputs = classification_output.squeeze()\n",
    "                val_loss = 0.5 * autoencoder_loss + 0.5 * classification_loss\n",
    "                val_running_loss += val_loss.item()\n",
    "                predicted_val = torch.round(outputs)\n",
    "                correct_val += (predicted_val == val_labels).sum().item()\n",
    "                total_val += val_labels.size(0)\n",
    "                y_true += val_labels.cpu().detach().numpy().tolist()\n",
    "                y_scores += outputs.cpu().detach().numpy().tolist()\n",
    "                val_loader_with_progress.set_postfix(val_loss=val_loss.item())\n",
    "                \n",
    "    val_loss = val_running_loss / len(val_loader)\n",
    "    val_acc = 100 * correct_val / total_val\n",
    "    val_roc_auc = roc_auc_score(y_true, y_scores)\n",
    "    \n",
    "    print(f'At 0th epoch without training Validation Loss: {val_loss}, Validation AUC-ROC: {val_roc_auc}, Validation Accuracy: {val_acc}')"
   ]
  },
  {
   "cell_type": "code",
   "execution_count": 19,
   "id": "72c5e6b0",
   "metadata": {
    "execution": {
     "iopub.execute_input": "2024-04-01T20:45:59.011579Z",
     "iopub.status.busy": "2024-04-01T20:45:59.010815Z",
     "iopub.status.idle": "2024-04-01T23:01:32.674932Z",
     "shell.execute_reply": "2024-04-01T23:01:32.673800Z"
    },
    "papermill": {
     "duration": 8133.68632,
     "end_time": "2024-04-01T23:01:32.677224",
     "exception": false,
     "start_time": "2024-04-01T20:45:58.990904",
     "status": "completed"
    },
    "tags": []
   },
   "outputs": [
    {
     "name": "stderr",
     "output_type": "stream",
     "text": [
      "                                                                                      \r"
     ]
    },
    {
     "name": "stdout",
     "output_type": "stream",
     "text": [
      "Learning Rate: 0.001\n",
      "Epoch 1/15, Train Loss: 0.3143, Train Acc: 68.10%, Val Loss: 0.2922, Val Acc: 70.61%, Train ROC-AUC: 0.746, Val ROC-AUC: 0.778\n"
     ]
    },
    {
     "name": "stderr",
     "output_type": "stream",
     "text": [
      "                                                                                      \r"
     ]
    },
    {
     "name": "stdout",
     "output_type": "stream",
     "text": [
      "Learning Rate: 0.001\n",
      "Epoch 2/15, Train Loss: 0.2939, Train Acc: 70.58%, Val Loss: 0.2825, Val Acc: 71.95%, Train ROC-AUC: 0.775, Val ROC-AUC: 0.796\n"
     ]
    },
    {
     "name": "stderr",
     "output_type": "stream",
     "text": [
      "                                                                                      \r"
     ]
    },
    {
     "name": "stdout",
     "output_type": "stream",
     "text": [
      "Learning Rate: 0.001\n",
      "Epoch 3/15, Train Loss: 0.2889, Train Acc: 71.37%, Val Loss: 0.2784, Val Acc: 72.67%, Train ROC-AUC: 0.785, Val ROC-AUC: 0.803\n"
     ]
    },
    {
     "name": "stderr",
     "output_type": "stream",
     "text": [
      "                                                                                      \r"
     ]
    },
    {
     "name": "stdout",
     "output_type": "stream",
     "text": [
      "Learning Rate: 0.001\n",
      "Epoch 4/15, Train Loss: 0.2859, Train Acc: 71.83%, Val Loss: 0.2752, Val Acc: 73.11%, Train ROC-AUC: 0.790, Val ROC-AUC: 0.808\n"
     ]
    },
    {
     "name": "stderr",
     "output_type": "stream",
     "text": [
      "                                                                                      \r"
     ]
    },
    {
     "name": "stdout",
     "output_type": "stream",
     "text": [
      "Learning Rate: 0.001\n",
      "Epoch 5/15, Train Loss: 0.2839, Train Acc: 72.14%, Val Loss: 0.2732, Val Acc: 73.47%, Train ROC-AUC: 0.794, Val ROC-AUC: 0.812\n"
     ]
    },
    {
     "name": "stderr",
     "output_type": "stream",
     "text": [
      "                                                                                      \r"
     ]
    },
    {
     "name": "stdout",
     "output_type": "stream",
     "text": [
      "Learning Rate: 0.001\n",
      "Epoch 6/15, Train Loss: 0.2825, Train Acc: 72.34%, Val Loss: 0.2716, Val Acc: 73.70%, Train ROC-AUC: 0.796, Val ROC-AUC: 0.815\n"
     ]
    },
    {
     "name": "stderr",
     "output_type": "stream",
     "text": [
      "                                                                                      \r"
     ]
    },
    {
     "name": "stdout",
     "output_type": "stream",
     "text": [
      "Learning Rate: 0.001\n",
      "Epoch 7/15, Train Loss: 0.2812, Train Acc: 72.54%, Val Loss: 0.2707, Val Acc: 73.81%, Train ROC-AUC: 0.799, Val ROC-AUC: 0.816\n"
     ]
    },
    {
     "name": "stderr",
     "output_type": "stream",
     "text": [
      "                                                                                      \r"
     ]
    },
    {
     "name": "stdout",
     "output_type": "stream",
     "text": [
      "Epoch 00008: reducing learning rate of group 0 to 4.0000e-04.\n",
      "Learning Rate: 0.0004\n",
      "Epoch 8/15, Train Loss: 0.2803, Train Acc: 72.67%, Val Loss: 0.2697, Val Acc: 73.88%, Train ROC-AUC: 0.800, Val ROC-AUC: 0.818\n"
     ]
    },
    {
     "name": "stderr",
     "output_type": "stream",
     "text": [
      "                                                                                      \r"
     ]
    },
    {
     "name": "stdout",
     "output_type": "stream",
     "text": [
      "Learning Rate: 0.0004\n",
      "Epoch 9/15, Train Loss: 0.2767, Train Acc: 73.17%, Val Loss: 0.2656, Val Acc: 74.48%, Train ROC-AUC: 0.806, Val ROC-AUC: 0.824\n"
     ]
    },
    {
     "name": "stderr",
     "output_type": "stream",
     "text": [
      "                                                                                       \r"
     ]
    },
    {
     "name": "stdout",
     "output_type": "stream",
     "text": [
      "Learning Rate: 0.0004\n",
      "Epoch 10/15, Train Loss: 0.2759, Train Acc: 73.29%, Val Loss: 0.2646, Val Acc: 74.64%, Train ROC-AUC: 0.808, Val ROC-AUC: 0.826\n"
     ]
    },
    {
     "name": "stderr",
     "output_type": "stream",
     "text": [
      "                                                                                       \r"
     ]
    },
    {
     "name": "stdout",
     "output_type": "stream",
     "text": [
      "Epoch 00011: reducing learning rate of group 0 to 1.6000e-04.\n",
      "Learning Rate: 0.00016\n",
      "Epoch 11/15, Train Loss: 0.2754, Train Acc: 73.33%, Val Loss: 0.2643, Val Acc: 74.64%, Train ROC-AUC: 0.808, Val ROC-AUC: 0.826\n"
     ]
    },
    {
     "name": "stderr",
     "output_type": "stream",
     "text": [
      "                                                                                      \r"
     ]
    },
    {
     "name": "stdout",
     "output_type": "stream",
     "text": [
      "Learning Rate: 0.00016\n",
      "Epoch 12/15, Train Loss: 0.2737, Train Acc: 73.55%, Val Loss: 0.2627, Val Acc: 74.87%, Train ROC-AUC: 0.811, Val ROC-AUC: 0.828\n"
     ]
    },
    {
     "name": "stderr",
     "output_type": "stream",
     "text": [
      "                                                                                       \r"
     ]
    },
    {
     "name": "stdout",
     "output_type": "stream",
     "text": [
      "Learning Rate: 0.00016\n",
      "Epoch 13/15, Train Loss: 0.2733, Train Acc: 73.60%, Val Loss: 0.2623, Val Acc: 74.86%, Train ROC-AUC: 0.812, Val ROC-AUC: 0.829\n"
     ]
    },
    {
     "name": "stderr",
     "output_type": "stream",
     "text": [
      "                                                                                       \r"
     ]
    },
    {
     "name": "stdout",
     "output_type": "stream",
     "text": [
      "Epoch 00014: reducing learning rate of group 0 to 6.4000e-05.\n",
      "Learning Rate: 6.400000000000001e-05\n",
      "Epoch 14/15, Train Loss: 0.2731, Train Acc: 73.63%, Val Loss: 0.2628, Val Acc: 74.87%, Train ROC-AUC: 0.812, Val ROC-AUC: 0.829\n"
     ]
    },
    {
     "name": "stderr",
     "output_type": "stream",
     "text": [
      "                                                                                       \r"
     ]
    },
    {
     "name": "stdout",
     "output_type": "stream",
     "text": [
      "Learning Rate: 6.400000000000001e-05\n",
      "Epoch 15/15, Train Loss: 0.2724, Train Acc: 73.70%, Val Loss: 0.2617, Val Acc: 74.99%, Train ROC-AUC: 0.813, Val ROC-AUC: 0.830\n",
      "Model saved successfully.\n",
      "Finished training\n"
     ]
    }
   ],
   "source": [
    "train_losses = []\n",
    "val_losses = []\n",
    "train_accs = []\n",
    "val_accs = []\n",
    "train_roc_aucs = []\n",
    "val_roc_aucs = []\n",
    "best_val_accuracy = 0.0\n",
    "best_model_state_dict = None\n",
    "\n",
    "for epoch in range(CFG.num_epochs):\n",
    "    model.train()\n",
    "    train_running_loss = 0\n",
    "    correct_train = 0\n",
    "    total_train = 0\n",
    "    y_true = []\n",
    "    y_scores = []\n",
    "\n",
    "    with tqdm(train_loader, desc=f\"Epoch {epoch + 1}/{CFG.num_epochs}\", leave=False) as train_loader_with_progress:\n",
    "        for inputs, labels in train_loader_with_progress:\n",
    "            inputs, labels = inputs.to(device), labels.to(device)\n",
    "            optimizer.zero_grad()\n",
    "            decoder_output, classification_output = model(inputs)\n",
    "            autoencoder_loss = criterion_autoencoder(decoder_output, inputs)\n",
    "            classification_loss = criterion_classification(classification_output.squeeze(), labels.float())  \n",
    "            loss = 0.5 * autoencoder_loss + 0.5 * classification_loss  \n",
    "            outputs = classification_output.squeeze()\n",
    "            loss.backward()\n",
    "            clip_grad_norm_(model.parameters(), max_norm=3)\n",
    "            optimizer.step()\n",
    "            train_running_loss += loss.item()\n",
    "            predicted_train = torch.round(outputs)\n",
    "            correct_train += (predicted_train == labels).sum().item()\n",
    "            total_train += labels.size(0)\n",
    "            train_loader_with_progress.set_postfix(train_loss=loss.item())\n",
    "            y_true += labels.cpu().detach().numpy().tolist()\n",
    "            y_scores += outputs.cpu().detach().numpy().tolist()\n",
    "    \n",
    "    train_loss = train_running_loss / len(train_loader)\n",
    "    train_acc = 100 * correct_train / total_train\n",
    "    roc_auc_train = roc_auc_score(y_true, y_scores)\n",
    "    \n",
    "    train_losses.append(train_loss)\n",
    "    train_accs.append(train_acc)\n",
    "    train_roc_aucs.append(roc_auc_train)\n",
    "\n",
    "    model.eval()\n",
    "    val_running_loss = 0\n",
    "    correct_val = 0\n",
    "    total_val = 0\n",
    "    y_true = []\n",
    "    y_scores = []\n",
    "    \n",
    "    with torch.no_grad():\n",
    "        with tqdm(val_loader, desc=f\"Epoch {epoch + 1}/{CFG.num_epochs} Validation\", leave=False) as val_loader_with_progress:\n",
    "            for val_inputs, val_labels in val_loader_with_progress:\n",
    "                val_inputs, val_labels = val_inputs.to(device), val_labels.to(device)\n",
    "                decoder_output, classification_output = model(val_inputs)\n",
    "                autoencoder_loss = criterion_autoencoder(decoder_output, val_inputs)\n",
    "                classification_loss = criterion_classification(classification_output.squeeze(), val_labels.float())\n",
    "                outputs = classification_output.squeeze()\n",
    "                val_loss = 0.5 * autoencoder_loss + 0.5 * classification_loss\n",
    "                val_running_loss += val_loss.item()\n",
    "                predicted_val = torch.round(outputs)\n",
    "                correct_val += (predicted_val == val_labels).sum().item()\n",
    "                total_val += val_labels.size(0)\n",
    "                y_true += val_labels.cpu().detach().numpy().tolist()\n",
    "                y_scores += outputs.cpu().detach().numpy().tolist()\n",
    "                val_loader_with_progress.set_postfix(val_loss=val_loss.item())\n",
    "                \n",
    "    val_loss = val_running_loss / len(val_loader)\n",
    "    val_acc = 100 * correct_val / total_val\n",
    "    val_roc_auc = roc_auc_score(y_true, y_scores)\n",
    "    \n",
    "    val_losses.append(val_loss)\n",
    "    val_accs.append(val_acc)\n",
    "    val_roc_aucs.append(val_roc_auc)\n",
    "    scheduler.step(val_loss)\n",
    "    for param_group in optimizer.param_groups:\n",
    "        print(f'Learning Rate: {param_group[\"lr\"]}')\n",
    "    \n",
    "    print(f\"Epoch {epoch + 1}/{CFG.num_epochs}, Train Loss: {train_loss:.4f}, Train Acc: {train_acc:.2f}%, Val Loss: {val_loss:.4f}, Val Acc: {val_acc:.2f}%, Train ROC-AUC: {roc_auc_train:.3f}, Val ROC-AUC: {val_roc_auc:.3f}\")\n",
    "    \n",
    "    if val_acc > best_val_accuracy:\n",
    "        best_val_accuracy = val_acc\n",
    "        best_model_state_dict = model.state_dict()\n",
    "        torch.save(best_model_state_dict, \"model_weights_Transformer_Autoencoder.pth\")\n",
    "\n",
    "print(\"Model saved successfully.\")\n",
    "print(\"Finished training\")\n",
    "           "
   ]
  },
  {
   "cell_type": "code",
   "execution_count": 20,
   "id": "390dad8f",
   "metadata": {
    "execution": {
     "iopub.execute_input": "2024-04-01T23:02:09.379873Z",
     "iopub.status.busy": "2024-04-01T23:02:09.379505Z",
     "iopub.status.idle": "2024-04-01T23:02:09.724655Z",
     "shell.execute_reply": "2024-04-01T23:02:09.723742Z"
    },
    "papermill": {
     "duration": 18.618268,
     "end_time": "2024-04-01T23:02:09.727349",
     "exception": false,
     "start_time": "2024-04-01T23:01:51.109081",
     "status": "completed"
    },
    "tags": []
   },
   "outputs": [
    {
     "data": {
      "image/png": "[encoded data removed]",
      "text/plain": [
       "<Figure size 640x480 with 1 Axes>"
      ]
     },
     "metadata": {},
     "output_type": "display_data"
    }
   ],
   "source": [
    "plt.plot(train_losses, label=\"Training Loss\")\n",
    "plt.plot(val_losses, label=\"Val Loss\")\n",
    "plt.xlabel(\"Epoch\")\n",
    "plt.ylabel(\"Loss\")\n",
    "plt.title(\"Training and Val Loss\")\n",
    "plt.legend()\n",
    "plt.show()"
   ]
  },
  {
   "cell_type": "code",
   "execution_count": 21,
   "id": "b26e4ce9",
   "metadata": {
    "execution": {
     "iopub.execute_input": "2024-04-01T23:02:46.441837Z",
     "iopub.status.busy": "2024-04-01T23:02:46.441462Z",
     "iopub.status.idle": "2024-04-01T23:02:46.736028Z",
     "shell.execute_reply": "2024-04-01T23:02:46.735197Z"
    },
    "papermill": {
     "duration": 18.840577,
     "end_time": "2024-04-01T23:02:46.737982",
     "exception": false,
     "start_time": "2024-04-01T23:02:27.897405",
     "status": "completed"
    },
    "tags": []
   },
   "outputs": [
    {
     "data": {
      "image/png": "[encoded data removed]",
      "text/plain": [
       "<Figure size 640x480 with 1 Axes>"
      ]
     },
     "metadata": {},
     "output_type": "display_data"
    }
   ],
   "source": [
    "plt.plot(train_accs, label=\"Training Accuracy\")\n",
    "plt.plot(val_accs, label=\"Val Accuracy\")\n",
    "plt.xlabel(\"Epoch\")\n",
    "plt.ylabel(\"Accuracy (%)\")\n",
    "plt.title(\"Training and Val Accuracy\")\n",
    "plt.legend()\n",
    "plt.show()"
   ]
  },
  {
   "cell_type": "code",
   "execution_count": 22,
   "id": "be0620bf",
   "metadata": {
    "execution": {
     "iopub.execute_input": "2024-04-01T23:03:23.722205Z",
     "iopub.status.busy": "2024-04-01T23:03:23.721273Z",
     "iopub.status.idle": "2024-04-01T23:03:23.999908Z",
     "shell.execute_reply": "2024-04-01T23:03:23.999004Z"
    },
    "papermill": {
     "duration": 18.870289,
     "end_time": "2024-04-01T23:03:24.002316",
     "exception": false,
     "start_time": "2024-04-01T23:03:05.132027",
     "status": "completed"
    },
    "tags": []
   },
   "outputs": [
    {
     "data": {
      "image/png": "[encoded data removed]",
      "text/plain": [
       "<Figure size 640x480 with 1 Axes>"
      ]
     },
     "metadata": {},
     "output_type": "display_data"
    }
   ],
   "source": [
    "plt.plot(train_roc_aucs, label=\"Training ROC\")\n",
    "plt.plot(val_roc_aucs, label=\"Val ROC\")\n",
    "plt.xlabel(\"Epoch\")\n",
    "plt.ylabel(\"ROC-AUC\")\n",
    "plt.title(\"Training and Val ROC-AUC\")\n",
    "plt.legend()\n",
    "plt.show()"
   ]
  }
 ],
 "metadata": {
  "kaggle": {
   "accelerator": "nvidiaTeslaT4",
   "dataSources": [
    {
     "datasetId": 4604715,
     "sourceId": 7851737,
     "sourceType": "datasetVersion"
    }
   ],
   "dockerImageVersionId": 30665,
   "isGpuEnabled": true,
   "isInternetEnabled": true,
   "language": "python",
   "sourceType": "notebook"
  },
  "kernelspec": {
   "display_name": "Python 3",
   "language": "python",
   "name": "python3"
  },
  "language_info": {
   "codemirror_mode": {
    "name": "ipython",
    "version": 3
   },
   "file_extension": ".py",
   "mimetype": "text/x-python",
   "name": "python",
   "nbconvert_exporter": "python",
   "pygments_lexer": "ipython3",
   "version": "3.10.13"
  },
  "papermill": {
   "default_parameters": {},
   "duration": 8551.046688,
   "end_time": "2024-04-01T23:03:44.851818",
   "environment_variables": {},
   "exception": null,
   "input_path": "__notebook__.ipynb",
   "output_path": "__notebook__.ipynb",
   "parameters": {},
   "start_time": "2024-04-01T20:41:13.805130",
   "version": "2.5.0"
  }
 },
 "nbformat": 4,
 "nbformat_minor": 5
}
