{
 "cells": [
  {
   "cell_type": "code",
   "execution_count": 2,
   "id": "a496a46b",
   "metadata": {
    "execution": {
     "iopub.execute_input": "2024-04-03T10:39:31.795030Z",
     "iopub.status.busy": "2024-04-03T10:39:31.794703Z",
     "iopub.status.idle": "2024-04-03T10:39:42.383077Z",
     "shell.execute_reply": "2024-04-03T10:39:42.382209Z"
    },
    "papermill": {
     "duration": 10.600057,
     "end_time": "2024-04-03T10:39:42.385478",
     "exception": false,
     "start_time": "2024-04-03T10:39:31.785421",
     "status": "completed"
    },
    "tags": []
   },
   "outputs": [],
   "source": [
    "import os\n",
    "import cv2\n",
    "import h5py\n",
    "import pyarrow.parquet as pq\n",
    "import pandas as pd\n",
    "import numpy as np\n",
    "import matplotlib.pyplot as plt\n",
    "import seaborn as sns\n",
    "from tqdm import tqdm\n",
    "from statistics import mean\n",
    "from sklearn.metrics import accuracy_score, roc_auc_score\n",
    "from sklearn.model_selection import StratifiedKFold, train_test_split\n",
    "from sklearn.preprocessing import StandardScaler\n",
    "\n",
    "import torch\n",
    "import torch.nn as nn\n",
    "import torch.optim as optim\n",
    "from torch.optim import lr_scheduler\n",
    "from torchlars import LARS\n",
    "from sklearn.metrics import roc_auc_score\n",
    "from transformers import AutoModel, AutoTokenizer\n",
    "import torchmetrics\n",
    "from torch.utils.data import DataLoader, TensorDataset\n",
    "from torch.optim.lr_scheduler import CosineAnnealingLR, StepLR,ReduceLROnPlateau\n",
    "from torch.utils.data.sampler import SubsetRandomSampler, BatchSampler, Sampler\n",
    "from torch.optim import Adam, SGD\n",
    "from torchvision import transforms, models\n",
    "from torch.utils.data import Dataset\n",
    "from torchvision.transforms import Resize, ToTensor\n",
    "from torch.cuda.amp import autocast, GradScaler\n",
    "import torch.nn.functional as F\n",
    "from torch.nn.utils import clip_grad_norm_\n",
    "\n",
    "torch.manual_seed(42)\n",
    "np.random.seed(42)\n",
    "torch.cuda.manual_seed(42)"
   ]
  },
  {
   "cell_type": "code",
   "execution_count": 3,
   "id": "76a2460f",
   "metadata": {
    "execution": {
     "iopub.execute_input": "2024-04-03T10:39:42.402939Z",
     "iopub.status.busy": "2024-04-03T10:39:42.402452Z",
     "iopub.status.idle": "2024-04-03T10:39:42.478536Z",
     "shell.execute_reply": "2024-04-03T10:39:42.477492Z"
    },
    "papermill": {
     "duration": 0.087012,
     "end_time": "2024-04-03T10:39:42.480814",
     "exception": false,
     "start_time": "2024-04-03T10:39:42.393802",
     "status": "completed"
    },
    "tags": []
   },
   "outputs": [
    {
     "name": "stdout",
     "output_type": "stream",
     "text": [
      "Using 2 GPUs\n"
     ]
    }
   ],
   "source": [
    "gpus = torch.cuda.device_count()\n",
    "if gpus <= 1:\n",
    "    device = torch.device(\"cuda:0\" if torch.cuda.is_available() else \"cpu\")\n",
    "    print(f'Using {gpus} GPU')\n",
    "else:\n",
    "    device = torch.device(\"cuda\" if torch.cuda.is_available() else \"cpu\")\n",
    "    print(f'Using {gpus} GPUs')\n"
   ]
  },
  {
   "cell_type": "code",
   "execution_count": 4,
   "id": "e2ba2b33",
   "metadata": {
    "execution": {
     "iopub.execute_input": "2024-04-03T10:39:42.498352Z",
     "iopub.status.busy": "2024-04-03T10:39:42.497836Z",
     "iopub.status.idle": "2024-04-03T10:39:42.503091Z",
     "shell.execute_reply": "2024-04-03T10:39:42.501984Z"
    },
    "papermill": {
     "duration": 0.01622,
     "end_time": "2024-04-03T10:39:42.505115",
     "exception": false,
     "start_time": "2024-04-03T10:39:42.488895",
     "status": "completed"
    },
    "tags": []
   },
   "outputs": [
    {
     "name": "stdout",
     "output_type": "stream",
     "text": [
      "Using full precision\n"
     ]
    }
   ],
   "source": [
    "MIX = False\n",
    "if MIX:\n",
    "    scaler = GradScaler()\n",
    "    print('Mixed precision enabled')\n",
    "else:\n",
    "    print('Using full precision')"
   ]
  },
  {
   "cell_type": "code",
   "execution_count": 5,
   "id": "f4a83ee2",
   "metadata": {
    "execution": {
     "iopub.execute_input": "2024-04-03T10:39:42.522557Z",
     "iopub.status.busy": "2024-04-03T10:39:42.522261Z",
     "iopub.status.idle": "2024-04-03T10:42:54.334202Z",
     "shell.execute_reply": "2024-04-03T10:42:54.333187Z"
    },
    "papermill": {
     "duration": 191.823401,
     "end_time": "2024-04-03T10:42:54.336590",
     "exception": false,
     "start_time": "2024-04-03T10:39:42.513189",
     "status": "completed"
    },
    "tags": []
   },
   "outputs": [],
   "source": [
    "columns_to_keep = list(range(22)) \n",
    "dataset = pd.read_csv(\"/kaggle/input/vit-data/HIGGS.csv/HIGGS.csv\", usecols=columns_to_keep)"
   ]
  },
  {
   "cell_type": "code",
   "execution_count": 6,
   "id": "1a9899b2",
   "metadata": {
    "execution": {
     "iopub.execute_input": "2024-04-03T10:42:54.353956Z",
     "iopub.status.busy": "2024-04-03T10:42:54.353647Z",
     "iopub.status.idle": "2024-04-03T10:42:54.386068Z",
     "shell.execute_reply": "2024-04-03T10:42:54.385234Z"
    },
    "papermill": {
     "duration": 0.0431,
     "end_time": "2024-04-03T10:42:54.387979",
     "exception": false,
     "start_time": "2024-04-03T10:42:54.344879",
     "status": "completed"
    },
    "tags": []
   },
   "outputs": [
    {
     "data": {
      "text/html": [
       "<div>\n",
       "<style scoped>\n",
       "    .dataframe tbody tr th:only-of-type {\n",
       "        vertical-align: middle;\n",
       "    }\n",
       "\n",
       "    .dataframe tbody tr th {\n",
       "        vertical-align: top;\n",
       "    }\n",
       "\n",
       "    .dataframe thead th {\n",
       "        text-align: right;\n",
       "    }\n",
       "</style>\n",
       "<table border=\"1\" class=\"dataframe\">\n",
       "  <thead>\n",
       "    <tr style=\"text-align: right;\">\n",
       "      <th></th>\n",
       "      <th>1.000000000000000000e+00</th>\n",
       "      <th>8.692932128906250000e-01</th>\n",
       "      <th>-6.350818276405334473e-01</th>\n",
       "      <th>2.256902605295181274e-01</th>\n",
       "      <th>3.274700641632080078e-01</th>\n",
       "      <th>-6.899932026863098145e-01</th>\n",
       "      <th>7.542022466659545898e-01</th>\n",
       "      <th>-2.485731393098831177e-01</th>\n",
       "      <th>-1.092063903808593750e+00</th>\n",
       "      <th>0.000000000000000000e+00</th>\n",
       "      <th>...</th>\n",
       "      <th>9.303491115570068359e-01</th>\n",
       "      <th>1.107436060905456543e+00</th>\n",
       "      <th>1.138904333114624023e+00</th>\n",
       "      <th>-1.578198313713073730e+00</th>\n",
       "      <th>-1.046985387802124023e+00</th>\n",
       "      <th>0.000000000000000000e+00.1</th>\n",
       "      <th>6.579295396804809570e-01</th>\n",
       "      <th>-1.045456994324922562e-02</th>\n",
       "      <th>-4.576716944575309753e-02</th>\n",
       "      <th>3.101961374282836914e+00</th>\n",
       "    </tr>\n",
       "  </thead>\n",
       "  <tbody>\n",
       "    <tr>\n",
       "      <th>0</th>\n",
       "      <td>1.0</td>\n",
       "      <td>0.907542</td>\n",
       "      <td>0.329147</td>\n",
       "      <td>0.359412</td>\n",
       "      <td>1.497970</td>\n",
       "      <td>-0.313010</td>\n",
       "      <td>1.095531</td>\n",
       "      <td>-0.557525</td>\n",
       "      <td>-1.588230</td>\n",
       "      <td>2.173076</td>\n",
       "      <td>...</td>\n",
       "      <td>1.271015</td>\n",
       "      <td>2.214872</td>\n",
       "      <td>0.499994</td>\n",
       "      <td>-1.261432</td>\n",
       "      <td>0.732156</td>\n",
       "      <td>0.000000</td>\n",
       "      <td>0.398701</td>\n",
       "      <td>-1.138930</td>\n",
       "      <td>-0.000819</td>\n",
       "      <td>0.000000</td>\n",
       "    </tr>\n",
       "    <tr>\n",
       "      <th>1</th>\n",
       "      <td>1.0</td>\n",
       "      <td>0.798835</td>\n",
       "      <td>1.470639</td>\n",
       "      <td>-1.635975</td>\n",
       "      <td>0.453773</td>\n",
       "      <td>0.425629</td>\n",
       "      <td>1.104875</td>\n",
       "      <td>1.282322</td>\n",
       "      <td>1.381664</td>\n",
       "      <td>0.000000</td>\n",
       "      <td>...</td>\n",
       "      <td>-0.819690</td>\n",
       "      <td>2.214872</td>\n",
       "      <td>0.993490</td>\n",
       "      <td>0.356080</td>\n",
       "      <td>-0.208778</td>\n",
       "      <td>2.548224</td>\n",
       "      <td>1.256955</td>\n",
       "      <td>1.128848</td>\n",
       "      <td>0.900461</td>\n",
       "      <td>0.000000</td>\n",
       "    </tr>\n",
       "    <tr>\n",
       "      <th>2</th>\n",
       "      <td>0.0</td>\n",
       "      <td>1.344385</td>\n",
       "      <td>-0.876626</td>\n",
       "      <td>0.935913</td>\n",
       "      <td>1.992050</td>\n",
       "      <td>0.882454</td>\n",
       "      <td>1.786066</td>\n",
       "      <td>-1.646778</td>\n",
       "      <td>-0.942383</td>\n",
       "      <td>0.000000</td>\n",
       "      <td>...</td>\n",
       "      <td>0.736159</td>\n",
       "      <td>2.214872</td>\n",
       "      <td>1.298720</td>\n",
       "      <td>-1.430738</td>\n",
       "      <td>-0.364658</td>\n",
       "      <td>0.000000</td>\n",
       "      <td>0.745313</td>\n",
       "      <td>-0.678379</td>\n",
       "      <td>-1.360356</td>\n",
       "      <td>0.000000</td>\n",
       "    </tr>\n",
       "    <tr>\n",
       "      <th>3</th>\n",
       "      <td>1.0</td>\n",
       "      <td>1.105009</td>\n",
       "      <td>0.321356</td>\n",
       "      <td>1.522401</td>\n",
       "      <td>0.882808</td>\n",
       "      <td>-1.205349</td>\n",
       "      <td>0.681466</td>\n",
       "      <td>-1.070464</td>\n",
       "      <td>-0.921871</td>\n",
       "      <td>0.000000</td>\n",
       "      <td>...</td>\n",
       "      <td>0.971407</td>\n",
       "      <td>2.214872</td>\n",
       "      <td>0.596761</td>\n",
       "      <td>-0.350273</td>\n",
       "      <td>0.631194</td>\n",
       "      <td>0.000000</td>\n",
       "      <td>0.479999</td>\n",
       "      <td>-0.373566</td>\n",
       "      <td>0.113041</td>\n",
       "      <td>0.000000</td>\n",
       "    </tr>\n",
       "    <tr>\n",
       "      <th>4</th>\n",
       "      <td>0.0</td>\n",
       "      <td>1.595839</td>\n",
       "      <td>-0.607811</td>\n",
       "      <td>0.007075</td>\n",
       "      <td>1.818450</td>\n",
       "      <td>-0.111906</td>\n",
       "      <td>0.847550</td>\n",
       "      <td>-0.566437</td>\n",
       "      <td>1.581239</td>\n",
       "      <td>2.173076</td>\n",
       "      <td>...</td>\n",
       "      <td>1.426367</td>\n",
       "      <td>0.000000</td>\n",
       "      <td>0.921661</td>\n",
       "      <td>-1.190432</td>\n",
       "      <td>-1.615589</td>\n",
       "      <td>0.000000</td>\n",
       "      <td>0.651114</td>\n",
       "      <td>-0.654227</td>\n",
       "      <td>-1.274345</td>\n",
       "      <td>3.101961</td>\n",
       "    </tr>\n",
       "  </tbody>\n",
       "</table>\n",
       "<p>5 rows × 22 columns</p>\n",
       "</div>"
      ],
      "text/plain": [
       "   1.000000000000000000e+00  8.692932128906250000e-01  \\\n",
       "0                       1.0                  0.907542   \n",
       "1                       1.0                  0.798835   \n",
       "2                       0.0                  1.344385   \n",
       "3                       1.0                  1.105009   \n",
       "4                       0.0                  1.595839   \n",
       "\n",
       "   -6.350818276405334473e-01  2.256902605295181274e-01  \\\n",
       "0                   0.329147                  0.359412   \n",
       "1                   1.470639                 -1.635975   \n",
       "2                  -0.876626                  0.935913   \n",
       "3                   0.321356                  1.522401   \n",
       "4                  -0.607811                  0.007075   \n",
       "\n",
       "   3.274700641632080078e-01  -6.899932026863098145e-01  \\\n",
       "0                  1.497970                  -0.313010   \n",
       "1                  0.453773                   0.425629   \n",
       "2                  1.992050                   0.882454   \n",
       "3                  0.882808                  -1.205349   \n",
       "4                  1.818450                  -0.111906   \n",
       "\n",
       "   7.542022466659545898e-01  -2.485731393098831177e-01  \\\n",
       "0                  1.095531                  -0.557525   \n",
       "1                  1.104875                   1.282322   \n",
       "2                  1.786066                  -1.646778   \n",
       "3                  0.681466                  -1.070464   \n",
       "4                  0.847550                  -0.566437   \n",
       "\n",
       "   -1.092063903808593750e+00  0.000000000000000000e+00  ...  \\\n",
       "0                  -1.588230                  2.173076  ...   \n",
       "1                   1.381664                  0.000000  ...   \n",
       "2                  -0.942383                  0.000000  ...   \n",
       "3                  -0.921871                  0.000000  ...   \n",
       "4                   1.581239                  2.173076  ...   \n",
       "\n",
       "   9.303491115570068359e-01  1.107436060905456543e+00  \\\n",
       "0                  1.271015                  2.214872   \n",
       "1                 -0.819690                  2.214872   \n",
       "2                  0.736159                  2.214872   \n",
       "3                  0.971407                  2.214872   \n",
       "4                  1.426367                  0.000000   \n",
       "\n",
       "   1.138904333114624023e+00  -1.578198313713073730e+00  \\\n",
       "0                  0.499994                  -1.261432   \n",
       "1                  0.993490                   0.356080   \n",
       "2                  1.298720                  -1.430738   \n",
       "3                  0.596761                  -0.350273   \n",
       "4                  0.921661                  -1.190432   \n",
       "\n",
       "   -1.046985387802124023e+00  0.000000000000000000e+00.1  \\\n",
       "0                   0.732156                    0.000000   \n",
       "1                  -0.208778                    2.548224   \n",
       "2                  -0.364658                    0.000000   \n",
       "3                   0.631194                    0.000000   \n",
       "4                  -1.615589                    0.000000   \n",
       "\n",
       "   6.579295396804809570e-01  -1.045456994324922562e-02  \\\n",
       "0                  0.398701                  -1.138930   \n",
       "1                  1.256955                   1.128848   \n",
       "2                  0.745313                  -0.678379   \n",
       "3                  0.479999                  -0.373566   \n",
       "4                  0.651114                  -0.654227   \n",
       "\n",
       "   -4.576716944575309753e-02  3.101961374282836914e+00  \n",
       "0                  -0.000819                  0.000000  \n",
       "1                   0.900461                  0.000000  \n",
       "2                  -1.360356                  0.000000  \n",
       "3                   0.113041                  0.000000  \n",
       "4                  -1.274345                  3.101961  \n",
       "\n",
       "[5 rows x 22 columns]"
      ]
     },
     "execution_count": 6,
     "metadata": {},
     "output_type": "execute_result"
    }
   ],
   "source": [
    "dataset.head()"
   ]
  },
  {
   "cell_type": "code",
   "execution_count": 7,
   "id": "c4cb1198",
   "metadata": {
    "execution": {
     "iopub.execute_input": "2024-04-03T10:42:54.405751Z",
     "iopub.status.busy": "2024-04-03T10:42:54.405406Z",
     "iopub.status.idle": "2024-04-03T10:42:54.430367Z",
     "shell.execute_reply": "2024-04-03T10:42:54.429008Z"
    },
    "papermill": {
     "duration": 0.035883,
     "end_time": "2024-04-03T10:42:54.432371",
     "exception": false,
     "start_time": "2024-04-03T10:42:54.396488",
     "status": "completed"
    },
    "tags": []
   },
   "outputs": [
    {
     "name": "stdout",
     "output_type": "stream",
     "text": [
      "<class 'pandas.core.frame.DataFrame'>\n",
      "RangeIndex: 10999999 entries, 0 to 10999998\n",
      "Data columns (total 22 columns):\n",
      " #   Column                      Dtype  \n",
      "---  ------                      -----  \n",
      " 0   1.000000000000000000e+00    float64\n",
      " 1   8.692932128906250000e-01    float64\n",
      " 2   -6.350818276405334473e-01   float64\n",
      " 3   2.256902605295181274e-01    float64\n",
      " 4   3.274700641632080078e-01    float64\n",
      " 5   -6.899932026863098145e-01   float64\n",
      " 6   7.542022466659545898e-01    float64\n",
      " 7   -2.485731393098831177e-01   float64\n",
      " 8   -1.092063903808593750e+00   float64\n",
      " 9   0.000000000000000000e+00    float64\n",
      " 10  1.374992132186889648e+00    float64\n",
      " 11  -6.536741852760314941e-01   float64\n",
      " 12  9.303491115570068359e-01    float64\n",
      " 13  1.107436060905456543e+00    float64\n",
      " 14  1.138904333114624023e+00    float64\n",
      " 15  -1.578198313713073730e+00   float64\n",
      " 16  -1.046985387802124023e+00   float64\n",
      " 17  0.000000000000000000e+00.1  float64\n",
      " 18  6.579295396804809570e-01    float64\n",
      " 19  -1.045456994324922562e-02   float64\n",
      " 20  -4.576716944575309753e-02   float64\n",
      " 21  3.101961374282836914e+00    float64\n",
      "dtypes: float64(22)\n",
      "memory usage: 1.8 GB\n"
     ]
    }
   ],
   "source": [
    "dataset.info()"
   ]
  },
  {
   "cell_type": "code",
   "execution_count": 8,
   "id": "7c33ca25",
   "metadata": {
    "execution": {
     "iopub.execute_input": "2024-04-03T10:42:54.450095Z",
     "iopub.status.busy": "2024-04-03T10:42:54.449836Z",
     "iopub.status.idle": "2024-04-03T10:42:54.454381Z",
     "shell.execute_reply": "2024-04-03T10:42:54.453421Z"
    },
    "papermill": {
     "duration": 0.015951,
     "end_time": "2024-04-03T10:42:54.456505",
     "exception": false,
     "start_time": "2024-04-03T10:42:54.440554",
     "status": "completed"
    },
    "tags": []
   },
   "outputs": [],
   "source": [
    "y = dataset.iloc[:,0]  \n",
    "X = dataset.iloc[:, 1:]"
   ]
  },
  {
   "cell_type": "code",
   "execution_count": 9,
   "id": "98048139",
   "metadata": {
    "execution": {
     "iopub.execute_input": "2024-04-03T10:42:54.476762Z",
     "iopub.status.busy": "2024-04-03T10:42:54.476445Z",
     "iopub.status.idle": "2024-04-03T10:42:54.652224Z",
     "shell.execute_reply": "2024-04-03T10:42:54.651264Z"
    },
    "papermill": {
     "duration": 0.188458,
     "end_time": "2024-04-03T10:42:54.654571",
     "exception": false,
     "start_time": "2024-04-03T10:42:54.466113",
     "status": "completed"
    },
    "tags": []
   },
   "outputs": [
    {
     "name": "stdout",
     "output_type": "stream",
     "text": [
      "Class Distribution:\n",
      "1.000000000000000000e+00\n",
      "1.0    5829122\n",
      "0.0    5170877\n",
      "Name: count, dtype: int64\n"
     ]
    }
   ],
   "source": [
    "class_distribution = y.value_counts()\n",
    "print(\"Class Distribution:\")\n",
    "print(class_distribution)"
   ]
  },
  {
   "cell_type": "code",
   "execution_count": 10,
   "id": "0ce95eb4",
   "metadata": {
    "execution": {
     "iopub.execute_input": "2024-04-03T10:42:54.675277Z",
     "iopub.status.busy": "2024-04-03T10:42:54.674982Z",
     "iopub.status.idle": "2024-04-03T10:42:58.030100Z",
     "shell.execute_reply": "2024-04-03T10:42:58.029228Z"
    },
    "papermill": {
     "duration": 3.368132,
     "end_time": "2024-04-03T10:42:58.032542",
     "exception": false,
     "start_time": "2024-04-03T10:42:54.664410",
     "status": "completed"
    },
    "tags": []
   },
   "outputs": [
    {
     "name": "stderr",
     "output_type": "stream",
     "text": [
      "/opt/conda/lib/python3.10/site-packages/numpy/core/fromnumeric.py:3643: FutureWarning: The behavior of DataFrame.std with axis=None is deprecated, in a future version this will reduce over both axes and return a scalar. To retain the old behavior, pass axis=0 (or do not pass axis)\n",
      "  return std(axis=axis, dtype=dtype, out=out, ddof=ddof, **kwargs)\n"
     ]
    }
   ],
   "source": [
    "X = (X - np.mean(X))/np.std(X)"
   ]
  },
  {
   "cell_type": "code",
   "execution_count": 11,
   "id": "f1f0802d",
   "metadata": {
    "execution": {
     "iopub.execute_input": "2024-04-03T10:42:58.051717Z",
     "iopub.status.busy": "2024-04-03T10:42:58.051432Z",
     "iopub.status.idle": "2024-04-03T10:43:05.706246Z",
     "shell.execute_reply": "2024-04-03T10:43:05.705384Z"
    },
    "papermill": {
     "duration": 7.666868,
     "end_time": "2024-04-03T10:43:05.708731",
     "exception": false,
     "start_time": "2024-04-03T10:42:58.041863",
     "status": "completed"
    },
    "tags": []
   },
   "outputs": [],
   "source": [
    "X_train, X_val, y_train, y_val = train_test_split(X, y, test_size=100000, stratify = y,random_state=42)"
   ]
  },
  {
   "cell_type": "code",
   "execution_count": 12,
   "id": "66d17a81",
   "metadata": {
    "execution": {
     "iopub.execute_input": "2024-04-03T10:43:05.727544Z",
     "iopub.status.busy": "2024-04-03T10:43:05.727041Z",
     "iopub.status.idle": "2024-04-03T10:43:05.878799Z",
     "shell.execute_reply": "2024-04-03T10:43:05.877533Z"
    },
    "papermill": {
     "duration": 0.164096,
     "end_time": "2024-04-03T10:43:05.881680",
     "exception": false,
     "start_time": "2024-04-03T10:43:05.717584",
     "status": "completed"
    },
    "tags": []
   },
   "outputs": [],
   "source": [
    "X_train = torch.tensor(X_train.values, dtype=torch.float32)\n",
    "X_val = torch.tensor(X_val.values, dtype=torch.float32)\n",
    "y_train = torch.tensor(y_train.values, dtype=torch.float32)\n",
    "y_val = torch.tensor(y_val.values, dtype=torch.float32)"
   ]
  },
  {
   "cell_type": "code",
   "execution_count": 13,
   "id": "3e486cf1",
   "metadata": {
    "execution": {
     "iopub.execute_input": "2024-04-03T10:43:05.901647Z",
     "iopub.status.busy": "2024-04-03T10:43:05.901291Z",
     "iopub.status.idle": "2024-04-03T10:43:05.906385Z",
     "shell.execute_reply": "2024-04-03T10:43:05.905527Z"
    },
    "papermill": {
     "duration": 0.017031,
     "end_time": "2024-04-03T10:43:05.908258",
     "exception": false,
     "start_time": "2024-04-03T10:43:05.891227",
     "status": "completed"
    },
    "tags": []
   },
   "outputs": [],
   "source": [
    "class CFG:\n",
    "    lr = 1e-3\n",
    "    weight_decay = 5e-4\n",
    "    input_dim = 21\n",
    "    latent_dim = 64\n",
    "    num_classes = 1\n",
    "    num_layers = 3\n",
    "    num_heads = 3\n",
    "    dropout = 0.1\n",
    "    num_epochs = 17\n",
    "    batch_size = 1024"
   ]
  },
  {
   "cell_type": "code",
   "execution_count": 14,
   "id": "71198d30",
   "metadata": {
    "execution": {
     "iopub.execute_input": "2024-04-03T10:43:05.926868Z",
     "iopub.status.busy": "2024-04-03T10:43:05.926551Z",
     "iopub.status.idle": "2024-04-03T10:43:05.933172Z",
     "shell.execute_reply": "2024-04-03T10:43:05.932324Z"
    },
    "papermill": {
     "duration": 0.018215,
     "end_time": "2024-04-03T10:43:05.935121",
     "exception": false,
     "start_time": "2024-04-03T10:43:05.916906",
     "status": "completed"
    },
    "tags": []
   },
   "outputs": [],
   "source": [
    "train_dataset = TensorDataset(X_train, y_train)\n",
    "val_dataset = TensorDataset(X_val, y_val)\n",
    "train_loader = DataLoader(train_dataset, batch_size=CFG.batch_size, shuffle=True)\n",
    "val_loader = DataLoader(val_dataset, batch_size=CFG.batch_size)"
   ]
  },
  {
   "cell_type": "code",
   "execution_count": 15,
   "id": "b016112f",
   "metadata": {
    "execution": {
     "iopub.execute_input": "2024-04-03T10:43:05.954117Z",
     "iopub.status.busy": "2024-04-03T10:43:05.953828Z",
     "iopub.status.idle": "2024-04-03T10:43:05.964706Z",
     "shell.execute_reply": "2024-04-03T10:43:05.963811Z"
    },
    "papermill": {
     "duration": 0.022602,
     "end_time": "2024-04-03T10:43:05.966522",
     "exception": false,
     "start_time": "2024-04-03T10:43:05.943920",
     "status": "completed"
    },
    "tags": []
   },
   "outputs": [],
   "source": [
    "class TransformerAutoencoderClassifier(nn.Module):\n",
    "    def __init__(self, input_dim=21, latent_dim=64, num_classes=1, num_layers=2, num_heads=3, dropout=0.1):\n",
    "        super(TransformerAutoencoderClassifier, self).__init__()\n",
    "        \n",
    "        self.input_dim = input_dim\n",
    "        self.num_layers = num_layers\n",
    "        self.num_heads = num_heads\n",
    "        \n",
    "        self.encoder_layers = nn.TransformerEncoderLayer(d_model=input_dim, nhead=num_heads)\n",
    "        self.encoder = nn.TransformerEncoder(self.encoder_layers, num_layers=num_layers)\n",
    "        self.decoder_layers = nn.TransformerDecoderLayer(d_model=input_dim, nhead=num_heads)\n",
    "        self.decoder = nn.TransformerDecoder(self.decoder_layers, num_layers=num_layers)\n",
    "        self.bottleneck = nn.Linear(input_dim, latent_dim)\n",
    "        self.classifier = nn.Linear(latent_dim, num_classes)\n",
    "        self.dropout = nn.Dropout(dropout)\n",
    "\n",
    "    def forward(self, x):\n",
    "        \n",
    "        tgt_mask = self.generate_square_subsequent_mask(x.size(0))\n",
    "        encoder_output = self.encoder(x)\n",
    "        decoder_output = self.decoder(x, encoder_output, tgt_mask=tgt_mask)\n",
    "        bottleneck_output = self.bottleneck(encoder_output)\n",
    "        classification_output = torch.sigmoid(self.classifier(bottleneck_output))\n",
    "        return decoder_output, classification_output\n",
    "\n",
    "    def generate_square_subsequent_mask(self, sz):\n",
    "        mask = (torch.triu(torch.ones(sz, sz)) == 1).transpose(0, 1)\n",
    "        mask = mask.float().masked_fill(mask == 0, float('-inf')).masked_fill(mask == 1, float(0.0))\n",
    "        return mask"
   ]
  },
  {
   "cell_type": "code",
   "execution_count": 16,
   "id": "05cfe1bb",
   "metadata": {
    "execution": {
     "iopub.execute_input": "2024-04-03T10:43:05.985366Z",
     "iopub.status.busy": "2024-04-03T10:43:05.985079Z",
     "iopub.status.idle": "2024-04-03T10:43:06.208570Z",
     "shell.execute_reply": "2024-04-03T10:43:06.207468Z"
    },
    "papermill": {
     "duration": 0.235481,
     "end_time": "2024-04-03T10:43:06.210988",
     "exception": false,
     "start_time": "2024-04-03T10:43:05.975507",
     "status": "completed"
    },
    "tags": []
   },
   "outputs": [
    {
     "name": "stderr",
     "output_type": "stream",
     "text": [
      "/opt/conda/lib/python3.10/site-packages/torch/nn/modules/transformer.py:282: UserWarning: enable_nested_tensor is True, but self.use_nested_tensor is False because encoder_layer.self_attn.batch_first was not True(use batch_first for better inference performance)\n",
      "  warnings.warn(f\"enable_nested_tensor is True, but self.use_nested_tensor is False because {why_not_sparsity_fast_path}\")\n"
     ]
    }
   ],
   "source": [
    "model = TransformerAutoencoderClassifier(\n",
    "    input_dim=CFG.input_dim,\n",
    "    latent_dim=CFG.latent_dim,\n",
    "    num_classes=CFG.num_classes,\n",
    "    num_layers=CFG.num_layers,\n",
    "    num_heads=CFG.num_heads,\n",
    "    dropout=CFG.dropout\n",
    ").to(device)"
   ]
  },
  {
   "cell_type": "code",
   "execution_count": 17,
   "id": "80d03451",
   "metadata": {
    "execution": {
     "iopub.execute_input": "2024-04-03T10:43:06.232057Z",
     "iopub.status.busy": "2024-04-03T10:43:06.231422Z",
     "iopub.status.idle": "2024-04-03T10:43:06.238034Z",
     "shell.execute_reply": "2024-04-03T10:43:06.237157Z"
    },
    "papermill": {
     "duration": 0.019164,
     "end_time": "2024-04-03T10:43:06.239938",
     "exception": false,
     "start_time": "2024-04-03T10:43:06.220774",
     "status": "completed"
    },
    "tags": []
   },
   "outputs": [],
   "source": [
    "criterion_autoencoder = nn.MSELoss()\n",
    "criterion_classification = nn.BCELoss()\n",
    "optimizer = torch.optim.AdamW(model.parameters(), lr=CFG.lr,weight_decay = CFG.weight_decay)\n",
    "scheduler = ReduceLROnPlateau(optimizer, mode='min', patience=1, factor=0.4, threshold=1e-2, verbose=True)"
   ]
  },
  {
   "cell_type": "code",
   "execution_count": 18,
   "id": "a1ad6824",
   "metadata": {
    "execution": {
     "iopub.execute_input": "2024-04-03T10:43:06.259395Z",
     "iopub.status.busy": "2024-04-03T10:43:06.258864Z",
     "iopub.status.idle": "2024-04-03T10:43:10.771792Z",
     "shell.execute_reply": "2024-04-03T10:43:10.770584Z"
    },
    "papermill": {
     "duration": 4.524708,
     "end_time": "2024-04-03T10:43:10.773842",
     "exception": false,
     "start_time": "2024-04-03T10:43:06.249134",
     "status": "completed"
    },
    "tags": []
   },
   "outputs": [
    {
     "name": "stderr",
     "output_type": "stream",
     "text": [
      "                                                                          \r"
     ]
    },
    {
     "name": "stdout",
     "output_type": "stream",
     "text": [
      "At 0th epoch without training Validation Loss: 0.9273783120573783, Validation AUC-ROC: 0.5367654452475378, Validation Accuracy: 53.759\n"
     ]
    }
   ],
   "source": [
    "    model.eval()\n",
    "    val_running_loss = 0\n",
    "    correct_val = 0\n",
    "    total_val = 0\n",
    "    y_true = []\n",
    "    y_scores = []\n",
    "    \n",
    "    with torch.no_grad():\n",
    "        with tqdm(val_loader, desc=\"Validation\", leave=False) as val_loader_with_progress:\n",
    "            for val_inputs, val_labels in val_loader_with_progress:\n",
    "                val_inputs, val_labels = val_inputs.to(device), val_labels.to(device)\n",
    "                decoder_output, classification_output = model(val_inputs)\n",
    "                autoencoder_loss = criterion_autoencoder(decoder_output, val_inputs)\n",
    "                classification_loss = criterion_classification(classification_output.squeeze(), val_labels.float())\n",
    "                outputs = classification_output.squeeze()\n",
    "                val_loss = 0.5 * autoencoder_loss + 0.5 * classification_loss\n",
    "                val_running_loss += val_loss.item()\n",
    "                predicted_val = torch.round(outputs)\n",
    "                correct_val += (predicted_val == val_labels).sum().item()\n",
    "                total_val += val_labels.size(0)\n",
    "                y_true += val_labels.cpu().detach().numpy().tolist()\n",
    "                y_scores += outputs.cpu().detach().numpy().tolist()\n",
    "                val_loader_with_progress.set_postfix(val_loss=val_loss.item())\n",
    "                \n",
    "    val_loss = val_running_loss / len(val_loader)\n",
    "    val_acc = 100 * correct_val / total_val\n",
    "    val_roc_auc = roc_auc_score(y_true, y_scores)\n",
    "    \n",
    "    print(f'At 0th epoch without training Validation Loss: {val_loss}, Validation AUC-ROC: {val_roc_auc}, Validation Accuracy: {val_acc}')"
   ]
  },
  {
   "cell_type": "code",
   "execution_count": 19,
   "id": "f98879f9",
   "metadata": {
    "execution": {
     "iopub.execute_input": "2024-04-03T10:43:10.815421Z",
     "iopub.status.busy": "2024-04-03T10:43:10.815102Z",
     "iopub.status.idle": "2024-04-03T13:38:53.196800Z",
     "shell.execute_reply": "2024-04-03T13:38:53.195573Z"
    },
    "papermill": {
     "duration": 10542.404797,
     "end_time": "2024-04-03T13:38:53.198879",
     "exception": false,
     "start_time": "2024-04-03T10:43:10.794082",
     "status": "completed"
    },
    "tags": []
   },
   "outputs": [
    {
     "name": "stderr",
     "output_type": "stream",
     "text": [
      "                                                                                     \r"
     ]
    },
    {
     "name": "stdout",
     "output_type": "stream",
     "text": [
      "Learning Rate: 0.001\n",
      "Epoch 1/17, Train Loss: 0.3187, Train Acc: 67.89%, Val Loss: 0.2932, Val Acc: 70.56%, Train ROC-AUC: 0.743, Val ROC-AUC: 0.777\n"
     ]
    },
    {
     "name": "stderr",
     "output_type": "stream",
     "text": [
      "                                                                                      \r"
     ]
    },
    {
     "name": "stdout",
     "output_type": "stream",
     "text": [
      "Learning Rate: 0.001\n",
      "Epoch 2/17, Train Loss: 0.2949, Train Acc: 70.38%, Val Loss: 0.2836, Val Acc: 71.82%, Train ROC-AUC: 0.773, Val ROC-AUC: 0.794\n"
     ]
    },
    {
     "name": "stderr",
     "output_type": "stream",
     "text": [
      "                                                                                      \r"
     ]
    },
    {
     "name": "stdout",
     "output_type": "stream",
     "text": [
      "Learning Rate: 0.001\n",
      "Epoch 3/17, Train Loss: 0.2893, Train Acc: 71.23%, Val Loss: 0.2786, Val Acc: 72.73%, Train ROC-AUC: 0.783, Val ROC-AUC: 0.802\n"
     ]
    },
    {
     "name": "stderr",
     "output_type": "stream",
     "text": [
      "                                                                                      \r"
     ]
    },
    {
     "name": "stdout",
     "output_type": "stream",
     "text": [
      "Learning Rate: 0.001\n",
      "Epoch 4/17, Train Loss: 0.2856, Train Acc: 71.77%, Val Loss: 0.2750, Val Acc: 73.20%, Train ROC-AUC: 0.789, Val ROC-AUC: 0.808\n"
     ]
    },
    {
     "name": "stderr",
     "output_type": "stream",
     "text": [
      "                                                                                      \r"
     ]
    },
    {
     "name": "stdout",
     "output_type": "stream",
     "text": [
      "Learning Rate: 0.001\n",
      "Epoch 5/17, Train Loss: 0.2831, Train Acc: 72.11%, Val Loss: 0.2722, Val Acc: 73.42%, Train ROC-AUC: 0.794, Val ROC-AUC: 0.812\n"
     ]
    },
    {
     "name": "stderr",
     "output_type": "stream",
     "text": [
      "                                                                                      \r"
     ]
    },
    {
     "name": "stdout",
     "output_type": "stream",
     "text": [
      "Learning Rate: 0.001\n",
      "Epoch 6/17, Train Loss: 0.2814, Train Acc: 72.35%, Val Loss: 0.2699, Val Acc: 73.83%, Train ROC-AUC: 0.797, Val ROC-AUC: 0.816\n"
     ]
    },
    {
     "name": "stderr",
     "output_type": "stream",
     "text": [
      "                                                                                      \r"
     ]
    },
    {
     "name": "stdout",
     "output_type": "stream",
     "text": [
      "Learning Rate: 0.001\n",
      "Epoch 7/17, Train Loss: 0.2800, Train Acc: 72.57%, Val Loss: 0.2692, Val Acc: 74.04%, Train ROC-AUC: 0.799, Val ROC-AUC: 0.818\n"
     ]
    },
    {
     "name": "stderr",
     "output_type": "stream",
     "text": [
      "                                                                                      \r"
     ]
    },
    {
     "name": "stdout",
     "output_type": "stream",
     "text": [
      "Learning Rate: 0.001\n",
      "Epoch 8/17, Train Loss: 0.2790, Train Acc: 72.71%, Val Loss: 0.2682, Val Acc: 74.14%, Train ROC-AUC: 0.801, Val ROC-AUC: 0.819\n"
     ]
    },
    {
     "name": "stderr",
     "output_type": "stream",
     "text": [
      "                                                                                      \r"
     ]
    },
    {
     "name": "stdout",
     "output_type": "stream",
     "text": [
      "Epoch 00009: reducing learning rate of group 0 to 4.0000e-04.\n",
      "Learning Rate: 0.0004\n",
      "Epoch 9/17, Train Loss: 0.2779, Train Acc: 72.86%, Val Loss: 0.2672, Val Acc: 74.13%, Train ROC-AUC: 0.803, Val ROC-AUC: 0.820\n"
     ]
    },
    {
     "name": "stderr",
     "output_type": "stream",
     "text": [
      "                                                                                       \r"
     ]
    },
    {
     "name": "stdout",
     "output_type": "stream",
     "text": [
      "Learning Rate: 0.0004\n",
      "Epoch 10/17, Train Loss: 0.2743, Train Acc: 73.35%, Val Loss: 0.2626, Val Acc: 74.84%, Train ROC-AUC: 0.809, Val ROC-AUC: 0.828\n"
     ]
    },
    {
     "name": "stderr",
     "output_type": "stream",
     "text": [
      "                                                                                       \r"
     ]
    },
    {
     "name": "stdout",
     "output_type": "stream",
     "text": [
      "Learning Rate: 0.0004\n",
      "Epoch 11/17, Train Loss: 0.2736, Train Acc: 73.43%, Val Loss: 0.2623, Val Acc: 74.93%, Train ROC-AUC: 0.810, Val ROC-AUC: 0.828\n"
     ]
    },
    {
     "name": "stderr",
     "output_type": "stream",
     "text": [
      "                                                                                       \r"
     ]
    },
    {
     "name": "stdout",
     "output_type": "stream",
     "text": [
      "Epoch 00012: reducing learning rate of group 0 to 1.6000e-04.\n",
      "Learning Rate: 0.00016\n",
      "Epoch 12/17, Train Loss: 0.2731, Train Acc: 73.50%, Val Loss: 0.2620, Val Acc: 75.00%, Train ROC-AUC: 0.811, Val ROC-AUC: 0.829\n"
     ]
    },
    {
     "name": "stderr",
     "output_type": "stream",
     "text": [
      "                                                                                       \r"
     ]
    },
    {
     "name": "stdout",
     "output_type": "stream",
     "text": [
      "Learning Rate: 0.00016\n",
      "Epoch 13/17, Train Loss: 0.2716, Train Acc: 73.70%, Val Loss: 0.2602, Val Acc: 75.25%, Train ROC-AUC: 0.813, Val ROC-AUC: 0.831\n"
     ]
    },
    {
     "name": "stderr",
     "output_type": "stream",
     "text": [
      "                                                                                       \r"
     ]
    },
    {
     "name": "stdout",
     "output_type": "stream",
     "text": [
      "Epoch 00014: reducing learning rate of group 0 to 6.4000e-05.\n",
      "Learning Rate: 6.400000000000001e-05\n",
      "Epoch 14/17, Train Loss: 0.2712, Train Acc: 73.75%, Val Loss: 0.2604, Val Acc: 75.17%, Train ROC-AUC: 0.814, Val ROC-AUC: 0.831\n"
     ]
    },
    {
     "name": "stderr",
     "output_type": "stream",
     "text": [
      "                                                                                       \r"
     ]
    },
    {
     "name": "stdout",
     "output_type": "stream",
     "text": [
      "Learning Rate: 6.400000000000001e-05\n",
      "Epoch 15/17, Train Loss: 0.2706, Train Acc: 73.84%, Val Loss: 0.2595, Val Acc: 75.28%, Train ROC-AUC: 0.815, Val ROC-AUC: 0.832\n"
     ]
    },
    {
     "name": "stderr",
     "output_type": "stream",
     "text": [
      "                                                                                       \r"
     ]
    },
    {
     "name": "stdout",
     "output_type": "stream",
     "text": [
      "Learning Rate: 6.400000000000001e-05\n",
      "Epoch 16/17, Train Loss: 0.2705, Train Acc: 73.85%, Val Loss: 0.2594, Val Acc: 75.30%, Train ROC-AUC: 0.815, Val ROC-AUC: 0.833\n"
     ]
    },
    {
     "name": "stderr",
     "output_type": "stream",
     "text": [
      "                                                                                       \r"
     ]
    },
    {
     "name": "stdout",
     "output_type": "stream",
     "text": [
      "Epoch 00017: reducing learning rate of group 0 to 2.5600e-05.\n",
      "Learning Rate: 2.5600000000000006e-05\n",
      "Epoch 17/17, Train Loss: 0.2704, Train Acc: 73.86%, Val Loss: 0.2594, Val Acc: 75.26%, Train ROC-AUC: 0.815, Val ROC-AUC: 0.833\n",
      "Model saved successfully.\n",
      "Finished training\n"
     ]
    }
   ],
   "source": [
    "train_losses = []\n",
    "val_losses = []\n",
    "train_accs = []\n",
    "val_accs = []\n",
    "train_roc_aucs = []\n",
    "val_roc_aucs = []\n",
    "best_val_accuracy = 0.0\n",
    "best_model_state_dict = None\n",
    "\n",
    "for epoch in range(CFG.num_epochs):\n",
    "    model.train()\n",
    "    train_running_loss = 0\n",
    "    correct_train = 0\n",
    "    total_train = 0\n",
    "    y_true = []\n",
    "    y_scores = []\n",
    "\n",
    "    with tqdm(train_loader, desc=f\"Epoch {epoch + 1}/{CFG.num_epochs}\", leave=False) as train_loader_with_progress:\n",
    "        for inputs, labels in train_loader_with_progress:\n",
    "            inputs, labels = inputs.to(device), labels.to(device)\n",
    "            optimizer.zero_grad()\n",
    "            decoder_output, classification_output = model(inputs)\n",
    "            autoencoder_loss = criterion_autoencoder(decoder_output, inputs)\n",
    "            classification_loss = criterion_classification(classification_output.squeeze(), labels.float())  \n",
    "            loss = 0.5 * autoencoder_loss + 0.5 * classification_loss  \n",
    "            outputs = classification_output.squeeze()\n",
    "            loss.backward()\n",
    "            clip_grad_norm_(model.parameters(), max_norm=3)\n",
    "            optimizer.step()\n",
    "            train_running_loss += loss.item()\n",
    "            predicted_train = torch.round(outputs)\n",
    "            correct_train += (predicted_train == labels).sum().item()\n",
    "            total_train += labels.size(0)\n",
    "            train_loader_with_progress.set_postfix(train_loss=loss.item())\n",
    "            y_true += labels.cpu().detach().numpy().tolist()\n",
    "            y_scores += outputs.cpu().detach().numpy().tolist()\n",
    "    \n",
    "    train_loss = train_running_loss / len(train_loader)\n",
    "    train_acc = 100 * correct_train / total_train\n",
    "    roc_auc_train = roc_auc_score(y_true, y_scores)\n",
    "    \n",
    "    train_losses.append(train_loss)\n",
    "    train_accs.append(train_acc)\n",
    "    train_roc_aucs.append(roc_auc_train)\n",
    "\n",
    "    model.eval()\n",
    "    val_running_loss = 0\n",
    "    correct_val = 0\n",
    "    total_val = 0\n",
    "    y_true = []\n",
    "    y_scores = []\n",
    "    \n",
    "    with torch.no_grad():\n",
    "        with tqdm(val_loader, desc=f\"Epoch {epoch + 1}/{CFG.num_epochs} Validation\", leave=False) as val_loader_with_progress:\n",
    "            for val_inputs, val_labels in val_loader_with_progress:\n",
    "                val_inputs, val_labels = val_inputs.to(device), val_labels.to(device)\n",
    "                decoder_output, classification_output = model(val_inputs)\n",
    "                autoencoder_loss = criterion_autoencoder(decoder_output, val_inputs)\n",
    "                classification_loss = criterion_classification(classification_output.squeeze(), val_labels.float())\n",
    "                outputs = classification_output.squeeze()\n",
    "                val_loss = 0.5 * autoencoder_loss + 0.5 * classification_loss\n",
    "                val_running_loss += val_loss.item()\n",
    "                predicted_val = torch.round(outputs)\n",
    "                correct_val += (predicted_val == val_labels).sum().item()\n",
    "                total_val += val_labels.size(0)\n",
    "                y_true += val_labels.cpu().detach().numpy().tolist()\n",
    "                y_scores += outputs.cpu().detach().numpy().tolist()\n",
    "                val_loader_with_progress.set_postfix(val_loss=val_loss.item())\n",
    "                \n",
    "    val_loss = val_running_loss / len(val_loader)\n",
    "    val_acc = 100 * correct_val / total_val\n",
    "    val_roc_auc = roc_auc_score(y_true, y_scores)\n",
    "    \n",
    "    val_losses.append(val_loss)\n",
    "    val_accs.append(val_acc)\n",
    "    val_roc_aucs.append(val_roc_auc)\n",
    "    scheduler.step(val_loss)\n",
    "    for param_group in optimizer.param_groups:\n",
    "        print(f'Learning Rate: {param_group[\"lr\"]}')\n",
    "    \n",
    "    print(f\"Epoch {epoch + 1}/{CFG.num_epochs}, Train Loss: {train_loss:.4f}, Train Acc: {train_acc:.2f}%, Val Loss: {val_loss:.4f}, Val Acc: {val_acc:.2f}%, Train ROC-AUC: {roc_auc_train:.3f}, Val ROC-AUC: {val_roc_auc:.3f}\")\n",
    "    \n",
    "    if val_acc > best_val_accuracy:\n",
    "        best_val_accuracy = val_acc\n",
    "        best_model_state_dict = model.state_dict()\n",
    "        torch.save(best_model_state_dict, \"model_weights_Transformer_Autoencoder.pth\")\n",
    "\n",
    "print(\"Model saved successfully.\")\n",
    "print(\"Finished training\")\n",
    "           "
   ]
  },
  {
   "cell_type": "code",
   "execution_count": 20,
   "id": "e9389891",
   "metadata": {
    "execution": {
     "iopub.execute_input": "2024-04-03T13:39:40.455407Z",
     "iopub.status.busy": "2024-04-03T13:39:40.454415Z",
     "iopub.status.idle": "2024-04-03T13:39:40.813164Z",
     "shell.execute_reply": "2024-04-03T13:39:40.812261Z"
    },
    "papermill": {
     "duration": 23.981132,
     "end_time": "2024-04-03T13:39:40.815397",
     "exception": false,
     "start_time": "2024-04-03T13:39:16.834265",
     "status": "completed"
    },
    "tags": []
   },
   "outputs": [
    {
     "data": {
      "image/png": "[encoded data removed]",
      "text/plain": [
       "<Figure size 640x480 with 1 Axes>"
      ]
     },
     "metadata": {},
     "output_type": "display_data"
    }
   ],
   "source": [
    "plt.plot(train_losses, label=\"Training Loss\")\n",
    "plt.plot(val_losses, label=\"Val Loss\")\n",
    "plt.xlabel(\"Epoch\")\n",
    "plt.ylabel(\"Loss\")\n",
    "plt.title(\"Training and Val Loss\")\n",
    "plt.legend()\n",
    "plt.show()"
   ]
  },
  {
   "cell_type": "code",
   "execution_count": 21,
   "id": "e1e1bc88",
   "metadata": {
    "execution": {
     "iopub.execute_input": "2024-04-03T13:40:27.807356Z",
     "iopub.status.busy": "2024-04-03T13:40:27.806974Z",
     "iopub.status.idle": "2024-04-03T13:40:28.137981Z",
     "shell.execute_reply": "2024-04-03T13:40:28.136947Z"
    },
    "papermill": {
     "duration": 23.647157,
     "end_time": "2024-04-03T13:40:28.139952",
     "exception": false,
     "start_time": "2024-04-03T13:40:04.492795",
     "status": "completed"
    },
    "tags": []
   },
   "outputs": [
    {
     "data": {
      "image/png": "[encoded data removed]",
      "text/plain": [
       "<Figure size 640x480 with 1 Axes>"
      ]
     },
     "metadata": {},
     "output_type": "display_data"
    }
   ],
   "source": [
    "plt.plot(train_accs, label=\"Training Accuracy\")\n",
    "plt.plot(val_accs, label=\"Val Accuracy\")\n",
    "plt.xlabel(\"Epoch\")\n",
    "plt.ylabel(\"Accuracy (%)\")\n",
    "plt.title(\"Training and Val Accuracy\")\n",
    "plt.legend()\n",
    "plt.show()"
   ]
  },
  {
   "cell_type": "code",
   "execution_count": 22,
   "id": "2f769c5f",
   "metadata": {
    "execution": {
     "iopub.execute_input": "2024-04-03T13:41:15.450175Z",
     "iopub.status.busy": "2024-04-03T13:41:15.449382Z",
     "iopub.status.idle": "2024-04-03T13:41:15.749470Z",
     "shell.execute_reply": "2024-04-03T13:41:15.748582Z"
    },
    "papermill": {
     "duration": 23.836269,
     "end_time": "2024-04-03T13:41:15.751848",
     "exception": false,
     "start_time": "2024-04-03T13:40:51.915579",
     "status": "completed"
    },
    "tags": []
   },
   "outputs": [
    {
     "data": {
      "image/png": "[encoded data removed]",
      "text/plain": [
       "<Figure size 640x480 with 1 Axes>"
      ]
     },
     "metadata": {},
     "output_type": "display_data"
    }
   ],
   "source": [
    "plt.plot(train_roc_aucs, label=\"Training ROC\")\n",
    "plt.plot(val_roc_aucs, label=\"Val ROC\")\n",
    "plt.xlabel(\"Epoch\")\n",
    "plt.ylabel(\"ROC-AUC\")\n",
    "plt.title(\"Training and Val ROC-AUC\")\n",
    "plt.legend()\n",
    "plt.show()"
   ]
  }
 ],
 "metadata": {
  "kaggle": {
   "accelerator": "nvidiaTeslaT4",
   "dataSources": [
    {
     "datasetId": 4604715,
     "sourceId": 7851737,
     "sourceType": "datasetVersion"
    }
   ],
   "dockerImageVersionId": 30665,
   "isGpuEnabled": true,
   "isInternetEnabled": true,
   "language": "python",
   "sourceType": "notebook"
  },
  "kernelspec": {
   "display_name": "Python 3",
   "language": "python",
   "name": "python3"
  },
  "language_info": {
   "codemirror_mode": {
    "name": "ipython",
    "version": 3
   },
   "file_extension": ".py",
   "mimetype": "text/x-python",
   "name": "python",
   "nbconvert_exporter": "python",
   "pygments_lexer": "ipython3",
   "version": "3.10.13"
  },
  "papermill": {
   "default_parameters": {},
   "duration": 11031.043417,
   "end_time": "2024-04-03T13:41:40.858898",
   "environment_variables": {},
   "exception": null,
   "input_path": "__notebook__.ipynb",
   "output_path": "__notebook__.ipynb",
   "parameters": {},
   "start_time": "2024-04-03T10:37:49.815481",
   "version": "2.5.0"
  }
 },
 "nbformat": 4,
 "nbformat_minor": 5
}
