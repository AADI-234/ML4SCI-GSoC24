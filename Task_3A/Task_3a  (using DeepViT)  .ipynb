{
 "cells": [
  {
   "cell_type": "markdown",
   "id": "e104a941",
   "metadata": {
    "papermill": {
     "duration": 0.013907,
     "end_time": "2024-03-28T05:42:55.593634",
     "exception": false,
     "start_time": "2024-03-28T05:42:55.579727",
     "status": "completed"
    },
    "tags": []
   },
   "source": [
    "# If any issues arise during execution, utilize parallel GPU processing, considering that the model has been trained and saved using parallel GPU architecture."
   ]
  },
  {
   "cell_type": "code",
   "execution_count": 1,
   "id": "d0529254",
   "metadata": {
    "execution": {
     "iopub.execute_input": "2024-03-28T05:42:55.618495Z",
     "iopub.status.busy": "2024-03-28T05:42:55.617427Z",
     "iopub.status.idle": "2024-03-28T05:43:55.066263Z",
     "shell.execute_reply": "2024-03-28T05:43:55.065154Z"
    },
    "papermill": {
     "duration": 59.464283,
     "end_time": "2024-03-28T05:43:55.069310",
     "exception": false,
     "start_time": "2024-03-28T05:42:55.605027",
     "status": "completed"
    },
    "tags": []
   },
   "outputs": [
    {
     "name": "stdout",
     "output_type": "stream",
     "text": [
      "Collecting einops\r\n",
      "  Downloading einops-0.6.1-py3-none-any.whl (42 kB)\r\n",
      "\u001b[2K     \u001b[90m━━━━━━━━━━━━━━━━━━━━━━━━━━━━━━━━━━━━━━━\u001b[0m \u001b[32m42.2/42.2 kB\u001b[0m \u001b[31m690.1 kB/s\u001b[0m eta \u001b[36m0:00:00\u001b[0m\r\n",
      "\u001b[?25hInstalling collected packages: einops\r\n",
      "Successfully installed einops-0.6.1\r\n",
      "\u001b[33mWARNING: Running pip as the 'root' user can result in broken permissions and conflicting behaviour with the system package manager. It is recommended to use a virtual environment instead: https://pip.pypa.io/warnings/venv\u001b[0m\u001b[33m\r\n",
      "\u001b[0mCollecting pyspark\r\n",
      "  Downloading pyspark-3.4.2.tar.gz (311.1 MB)\r\n",
      "\u001b[2K     \u001b[90m━━━━━━━━━━━━━━━━━━━━━━━━━━━━━━━━━━━━━━━\u001b[0m \u001b[32m311.1/311.1 MB\u001b[0m \u001b[31m4.0 MB/s\u001b[0m eta \u001b[36m0:00:00\u001b[0m\r\n",
      "\u001b[?25h  Preparing metadata (setup.py) ... \u001b[?25l-\b \b\\\b \bdone\r\n",
      "\u001b[?25hRequirement already satisfied: py4j==0.10.9.7 in /opt/conda/lib/python3.7/site-packages (from pyspark) (0.10.9.7)\r\n",
      "Building wheels for collected packages: pyspark\r\n",
      "  Building wheel for pyspark (setup.py) ... \u001b[?25l-\b \b\\\b \b|\b \b/\b \b-\b \b\\\b \b|\b \b/\b \b-\b \b\\\b \b|\b \bdone\r\n",
      "\u001b[?25h  Created wheel for pyspark: filename=pyspark-3.4.2-py2.py3-none-any.whl size=311619854 sha256=184c98a748ea501ebcf8917eb2dcffbd0686e6413e159d507fa6d6087bf641a4\r\n",
      "  Stored in directory: /root/.cache/pip/wheels/c1/1e/45/21d8f2dd514b2c1318a24a9b75427ecbee40ed9abf91917256\r\n",
      "Successfully built pyspark\r\n",
      "Installing collected packages: pyspark\r\n",
      "Successfully installed pyspark-3.4.2\r\n",
      "\u001b[33mWARNING: Running pip as the 'root' user can result in broken permissions and conflicting behaviour with the system package manager. It is recommended to use a virtual environment instead: https://pip.pypa.io/warnings/venv\u001b[0m\u001b[33m\r\n",
      "\u001b[0m"
     ]
    }
   ],
   "source": [
    "!pip install einops\n",
    "!pip install pyspark"
   ]
  },
  {
   "cell_type": "code",
   "execution_count": 2,
   "id": "a0eb75d0",
   "metadata": {
    "execution": {
     "iopub.execute_input": "2024-03-28T05:43:55.113695Z",
     "iopub.status.busy": "2024-03-28T05:43:55.113272Z",
     "iopub.status.idle": "2024-03-28T05:44:04.676316Z",
     "shell.execute_reply": "2024-03-28T05:44:04.675383Z"
    },
    "papermill": {
     "duration": 9.588189,
     "end_time": "2024-03-28T05:44:04.679045",
     "exception": false,
     "start_time": "2024-03-28T05:43:55.090856",
     "status": "completed"
    },
    "tags": []
   },
   "outputs": [],
   "source": [
    "import os\n",
    "import timm\n",
    "import cv2\n",
    "import h5py\n",
    "import pyarrow.parquet as pq\n",
    "import pandas as pd\n",
    "import numpy as np\n",
    "import matplotlib.pyplot as plt\n",
    "import seaborn as sns\n",
    "from tqdm import tqdm\n",
    "from statistics import mean\n",
    "from sklearn.metrics import accuracy_score, roc_auc_score\n",
    "from sklearn.model_selection import StratifiedKFold, train_test_split\n",
    "from sklearn.preprocessing import StandardScaler\n",
    "\n",
    "import torch\n",
    "import torch.nn as nn\n",
    "import torch.optim as optim\n",
    "from torch.utils.data import DataLoader, TensorDataset\n",
    "from torch.optim.lr_scheduler import CosineAnnealingLR, StepLR,ExponentialLR\n",
    "from torchvision.transforms import Resize, ToTensor\n",
    "from torch.cuda.amp import autocast, GradScaler\n",
    "import einops\n",
    "from einops import repeat, rearrange,einsum\n",
    "from skimage.transform import resize\n",
    "\n",
    "\n",
    "from einops.layers.torch import Rearrange\n",
    "from pyspark.sql import SparkSession\n",
    "\n",
    "torch.manual_seed(42)\n",
    "np.random.seed(42)\n",
    "torch.cuda.manual_seed(42)"
   ]
  },
  {
   "cell_type": "code",
   "execution_count": 3,
   "id": "f6cc07d4",
   "metadata": {
    "execution": {
     "iopub.execute_input": "2024-03-28T05:44:04.722504Z",
     "iopub.status.busy": "2024-03-28T05:44:04.722137Z",
     "iopub.status.idle": "2024-03-28T05:44:04.803844Z",
     "shell.execute_reply": "2024-03-28T05:44:04.802767Z"
    },
    "papermill": {
     "duration": 0.105948,
     "end_time": "2024-03-28T05:44:04.806147",
     "exception": false,
     "start_time": "2024-03-28T05:44:04.700199",
     "status": "completed"
    },
    "tags": []
   },
   "outputs": [],
   "source": [
    "device = torch.device(\"cuda\" if torch.cuda.is_available() else \"cpu\")"
   ]
  },
  {
   "cell_type": "code",
   "execution_count": 4,
   "id": "4139d431",
   "metadata": {
    "execution": {
     "iopub.execute_input": "2024-03-28T05:44:04.849347Z",
     "iopub.status.busy": "2024-03-28T05:44:04.848390Z",
     "iopub.status.idle": "2024-03-28T05:44:04.880204Z",
     "shell.execute_reply": "2024-03-28T05:44:04.879114Z"
    },
    "papermill": {
     "duration": 0.055848,
     "end_time": "2024-03-28T05:44:04.882346",
     "exception": false,
     "start_time": "2024-03-28T05:44:04.826498",
     "status": "completed"
    },
    "tags": []
   },
   "outputs": [
    {
     "name": "stdout",
     "output_type": "stream",
     "text": [
      "Using 2 GPUs\n"
     ]
    }
   ],
   "source": [
    "gpus = torch.cuda.device_count()\n",
    "\n",
    "if gpus <= 1:\n",
    "    device = torch.device(\"cuda:0\" if torch.cuda.is_available() else \"cpu\")\n",
    "    print(f'Using {gpus} GPU')\n",
    "else:\n",
    "    device = torch.device(\"cuda\" if torch.cuda.is_available() else \"cpu\")\n",
    "    print(f'Using {gpus} GPUs')"
   ]
  },
  {
   "cell_type": "code",
   "execution_count": 5,
   "id": "7bdd5ba8",
   "metadata": {
    "execution": {
     "iopub.execute_input": "2024-03-28T05:44:04.925361Z",
     "iopub.status.busy": "2024-03-28T05:44:04.924657Z",
     "iopub.status.idle": "2024-03-28T05:44:04.930194Z",
     "shell.execute_reply": "2024-03-28T05:44:04.929138Z"
    },
    "papermill": {
     "duration": 0.030557,
     "end_time": "2024-03-28T05:44:04.932779",
     "exception": false,
     "start_time": "2024-03-28T05:44:04.902222",
     "status": "completed"
    },
    "tags": []
   },
   "outputs": [
    {
     "name": "stdout",
     "output_type": "stream",
     "text": [
      "Using full precision\n"
     ]
    }
   ],
   "source": [
    "MIX = False\n",
    "if MIX:\n",
    "    scaler = GradScaler()\n",
    "    print('Mixed precision enabled')\n",
    "else:\n",
    "    print('Using full precision')"
   ]
  },
  {
   "cell_type": "code",
   "execution_count": 6,
   "id": "62905038",
   "metadata": {
    "execution": {
     "iopub.execute_input": "2024-03-28T05:44:04.975009Z",
     "iopub.status.busy": "2024-03-28T05:44:04.974696Z",
     "iopub.status.idle": "2024-03-28T05:47:00.577501Z",
     "shell.execute_reply": "2024-03-28T05:47:00.576256Z"
    },
    "papermill": {
     "duration": 175.650366,
     "end_time": "2024-03-28T05:47:00.603954",
     "exception": false,
     "start_time": "2024-03-28T05:44:04.953588",
     "status": "completed"
    },
    "tags": []
   },
   "outputs": [
    {
     "name": "stdout",
     "output_type": "stream",
     "text": [
      "Dataset Length: 7676\n"
     ]
    }
   ],
   "source": [
    "dfs = []\n",
    "parquet_file = pq.ParquetFile('/kaggle/input/task-3a/Task_3a/top_gun_opendata_3.parquet')\n",
    "total_rows = parquet_file.metadata.num_rows\n",
    "chunk_size = 8\n",
    "for i in range(0,total_rows,chunk_size):\n",
    "    chunk = parquet_file.read_row_group(i)\n",
    "    df = chunk.to_pandas()\n",
    "    condition = (df['m'] > 0) & (df['m'] < 256) & (df['pt'] > 320) & (df['pt'] < 1600) & (df['ieta'] < 80.25)\n",
    "    filtered_df = df[condition]\n",
    "    if not filtered_df.empty:\n",
    "        dfs.append(filtered_df)\n",
    "\n",
    "dataset = pd.concat(dfs, ignore_index=True)\n",
    "print('Dataset Length:', len(dataset))"
   ]
  },
  {
   "cell_type": "code",
   "execution_count": 7,
   "id": "62bd0072",
   "metadata": {
    "execution": {
     "iopub.execute_input": "2024-03-28T05:47:00.652899Z",
     "iopub.status.busy": "2024-03-28T05:47:00.651979Z",
     "iopub.status.idle": "2024-03-28T05:47:00.686373Z",
     "shell.execute_reply": "2024-03-28T05:47:00.685141Z"
    },
    "papermill": {
     "duration": 0.061475,
     "end_time": "2024-03-28T05:47:00.688931",
     "exception": false,
     "start_time": "2024-03-28T05:47:00.627456",
     "status": "completed"
    },
    "tags": []
   },
   "outputs": [
    {
     "data": {
      "text/html": [
       "<div>\n",
       "<style scoped>\n",
       "    .dataframe tbody tr th:only-of-type {\n",
       "        vertical-align: middle;\n",
       "    }\n",
       "\n",
       "    .dataframe tbody tr th {\n",
       "        vertical-align: top;\n",
       "    }\n",
       "\n",
       "    .dataframe thead th {\n",
       "        text-align: right;\n",
       "    }\n",
       "</style>\n",
       "<table border=\"1\" class=\"dataframe\">\n",
       "  <thead>\n",
       "    <tr style=\"text-align: right;\">\n",
       "      <th></th>\n",
       "      <th>m</th>\n",
       "      <th>iphi</th>\n",
       "      <th>pt</th>\n",
       "      <th>ieta</th>\n",
       "    </tr>\n",
       "  </thead>\n",
       "  <tbody>\n",
       "    <tr>\n",
       "      <th>count</th>\n",
       "      <td>7676.000000</td>\n",
       "      <td>7676.000000</td>\n",
       "      <td>7676.000000</td>\n",
       "      <td>7676.000000</td>\n",
       "    </tr>\n",
       "    <tr>\n",
       "      <th>mean</th>\n",
       "      <td>170.188106</td>\n",
       "      <td>35.123372</td>\n",
       "      <td>699.564382</td>\n",
       "      <td>27.449844</td>\n",
       "    </tr>\n",
       "    <tr>\n",
       "      <th>std</th>\n",
       "      <td>49.473223</td>\n",
       "      <td>20.743823</td>\n",
       "      <td>173.854311</td>\n",
       "      <td>8.596656</td>\n",
       "    </tr>\n",
       "    <tr>\n",
       "      <th>min</th>\n",
       "      <td>85.339424</td>\n",
       "      <td>0.000000</td>\n",
       "      <td>400.474030</td>\n",
       "      <td>12.000000</td>\n",
       "    </tr>\n",
       "    <tr>\n",
       "      <th>25%</th>\n",
       "      <td>127.098766</td>\n",
       "      <td>17.000000</td>\n",
       "      <td>547.183167</td>\n",
       "      <td>20.000000</td>\n",
       "    </tr>\n",
       "    <tr>\n",
       "      <th>50%</th>\n",
       "      <td>171.119751</td>\n",
       "      <td>35.000000</td>\n",
       "      <td>701.326172</td>\n",
       "      <td>27.000000</td>\n",
       "    </tr>\n",
       "    <tr>\n",
       "      <th>75%</th>\n",
       "      <td>213.003334</td>\n",
       "      <td>53.000000</td>\n",
       "      <td>850.035019</td>\n",
       "      <td>35.000000</td>\n",
       "    </tr>\n",
       "    <tr>\n",
       "      <th>max</th>\n",
       "      <td>255.973297</td>\n",
       "      <td>71.000000</td>\n",
       "      <td>999.966858</td>\n",
       "      <td>43.000000</td>\n",
       "    </tr>\n",
       "  </tbody>\n",
       "</table>\n",
       "</div>"
      ],
      "text/plain": [
       "                 m         iphi           pt         ieta\n",
       "count  7676.000000  7676.000000  7676.000000  7676.000000\n",
       "mean    170.188106    35.123372   699.564382    27.449844\n",
       "std      49.473223    20.743823   173.854311     8.596656\n",
       "min      85.339424     0.000000   400.474030    12.000000\n",
       "25%     127.098766    17.000000   547.183167    20.000000\n",
       "50%     171.119751    35.000000   701.326172    27.000000\n",
       "75%     213.003334    53.000000   850.035019    35.000000\n",
       "max     255.973297    71.000000   999.966858    43.000000"
      ]
     },
     "execution_count": 7,
     "metadata": {},
     "output_type": "execute_result"
    }
   ],
   "source": [
    "dataset.describe()"
   ]
  },
  {
   "cell_type": "code",
   "execution_count": 8,
   "id": "edb2e24a",
   "metadata": {
    "execution": {
     "iopub.execute_input": "2024-03-28T05:47:00.735493Z",
     "iopub.status.busy": "2024-03-28T05:47:00.734752Z",
     "iopub.status.idle": "2024-03-28T05:47:00.755902Z",
     "shell.execute_reply": "2024-03-28T05:47:00.754493Z"
    },
    "papermill": {
     "duration": 0.047108,
     "end_time": "2024-03-28T05:47:00.758577",
     "exception": false,
     "start_time": "2024-03-28T05:47:00.711469",
     "status": "completed"
    },
    "tags": []
   },
   "outputs": [
    {
     "name": "stdout",
     "output_type": "stream",
     "text": [
      "<class 'pandas.core.frame.DataFrame'>\n",
      "RangeIndex: 7676 entries, 0 to 7675\n",
      "Data columns (total 5 columns):\n",
      " #   Column  Non-Null Count  Dtype  \n",
      "---  ------  --------------  -----  \n",
      " 0   X_jet   7676 non-null   object \n",
      " 1   m       7676 non-null   float64\n",
      " 2   iphi    7676 non-null   float64\n",
      " 3   pt      7676 non-null   float64\n",
      " 4   ieta    7676 non-null   float64\n",
      "dtypes: float64(4), object(1)\n",
      "memory usage: 300.0+ KB\n"
     ]
    }
   ],
   "source": [
    "dataset.info()"
   ]
  },
  {
   "cell_type": "code",
   "execution_count": 9,
   "id": "2660ae0b",
   "metadata": {
    "execution": {
     "iopub.execute_input": "2024-03-28T05:47:00.807501Z",
     "iopub.status.busy": "2024-03-28T05:47:00.806744Z",
     "iopub.status.idle": "2024-03-28T05:47:00.814053Z",
     "shell.execute_reply": "2024-03-28T05:47:00.812970Z"
    },
    "papermill": {
     "duration": 0.035032,
     "end_time": "2024-03-28T05:47:00.816621",
     "exception": false,
     "start_time": "2024-03-28T05:47:00.781589",
     "status": "completed"
    },
    "tags": []
   },
   "outputs": [
    {
     "data": {
      "text/plain": [
       "7676"
      ]
     },
     "execution_count": 9,
     "metadata": {},
     "output_type": "execute_result"
    }
   ],
   "source": [
    "total_r = dataset[\"X_jet\"].shape[0]\n",
    "total_r"
   ]
  },
  {
   "cell_type": "code",
   "execution_count": 10,
   "id": "3e6c1bd8",
   "metadata": {
    "execution": {
     "iopub.execute_input": "2024-03-28T05:47:00.867190Z",
     "iopub.status.busy": "2024-03-28T05:47:00.866275Z",
     "iopub.status.idle": "2024-03-28T05:47:00.873260Z",
     "shell.execute_reply": "2024-03-28T05:47:00.872226Z"
    },
    "papermill": {
     "duration": 0.034616,
     "end_time": "2024-03-28T05:47:00.875598",
     "exception": false,
     "start_time": "2024-03-28T05:47:00.840982",
     "status": "completed"
    },
    "tags": []
   },
   "outputs": [
    {
     "data": {
      "text/plain": [
       "(8,)"
      ]
     },
     "execution_count": 10,
     "metadata": {},
     "output_type": "execute_result"
    }
   ],
   "source": [
    "dataset[\"X_jet\"][0].shape"
   ]
  },
  {
   "cell_type": "code",
   "execution_count": 11,
   "id": "1dbea379",
   "metadata": {
    "execution": {
     "iopub.execute_input": "2024-03-28T05:47:00.927019Z",
     "iopub.status.busy": "2024-03-28T05:47:00.925838Z",
     "iopub.status.idle": "2024-03-28T05:47:00.933575Z",
     "shell.execute_reply": "2024-03-28T05:47:00.932493Z"
    },
    "papermill": {
     "duration": 0.036759,
     "end_time": "2024-03-28T05:47:00.936130",
     "exception": false,
     "start_time": "2024-03-28T05:47:00.899371",
     "status": "completed"
    },
    "tags": []
   },
   "outputs": [
    {
     "data": {
      "text/plain": [
       "(125,)"
      ]
     },
     "execution_count": 11,
     "metadata": {},
     "output_type": "execute_result"
    }
   ],
   "source": [
    "dataset[\"X_jet\"][0][0].shape"
   ]
  },
  {
   "cell_type": "code",
   "execution_count": 12,
   "id": "fc7f7613",
   "metadata": {
    "execution": {
     "iopub.execute_input": "2024-03-28T05:47:00.985001Z",
     "iopub.status.busy": "2024-03-28T05:47:00.984238Z",
     "iopub.status.idle": "2024-03-28T05:47:00.991798Z",
     "shell.execute_reply": "2024-03-28T05:47:00.990788Z"
    },
    "papermill": {
     "duration": 0.034093,
     "end_time": "2024-03-28T05:47:00.994288",
     "exception": false,
     "start_time": "2024-03-28T05:47:00.960195",
     "status": "completed"
    },
    "tags": []
   },
   "outputs": [
    {
     "data": {
      "text/plain": [
       "(125,)"
      ]
     },
     "execution_count": 12,
     "metadata": {},
     "output_type": "execute_result"
    }
   ],
   "source": [
    "dataset[\"X_jet\"][0][0][0].shape"
   ]
  },
  {
   "cell_type": "code",
   "execution_count": 13,
   "id": "e97a3f2d",
   "metadata": {
    "execution": {
     "iopub.execute_input": "2024-03-28T05:47:01.039562Z",
     "iopub.status.busy": "2024-03-28T05:47:01.038744Z",
     "iopub.status.idle": "2024-03-28T05:47:01.045586Z",
     "shell.execute_reply": "2024-03-28T05:47:01.044489Z"
    },
    "papermill": {
     "duration": 0.031839,
     "end_time": "2024-03-28T05:47:01.047898",
     "exception": false,
     "start_time": "2024-03-28T05:47:01.016059",
     "status": "completed"
    },
    "tags": []
   },
   "outputs": [],
   "source": [
    "def to_array(data):\n",
    "    arr = []\n",
    "    for i in range(0, 4):\n",
    "        a = np.stack(np.stack(data)[i], axis=-1)\n",
    "        arr.append(a)\n",
    "    arr = np.array(arr)\n",
    "    arr = arr.reshape((125, 125, 4))\n",
    "    return arr"
   ]
  },
  {
   "cell_type": "code",
   "execution_count": 14,
   "id": "ebfc6c33",
   "metadata": {
    "execution": {
     "iopub.execute_input": "2024-03-28T05:47:01.093375Z",
     "iopub.status.busy": "2024-03-28T05:47:01.092580Z",
     "iopub.status.idle": "2024-03-28T05:47:09.583280Z",
     "shell.execute_reply": "2024-03-28T05:47:09.582303Z"
    },
    "papermill": {
     "duration": 8.516418,
     "end_time": "2024-03-28T05:47:09.585955",
     "exception": false,
     "start_time": "2024-03-28T05:47:01.069537",
     "status": "completed"
    },
    "tags": []
   },
   "outputs": [],
   "source": [
    "dataset[\"X_jet\"] = dataset[\"X_jet\"].apply(to_array)"
   ]
  },
  {
   "cell_type": "code",
   "execution_count": 15,
   "id": "c417f109",
   "metadata": {
    "execution": {
     "iopub.execute_input": "2024-03-28T05:47:09.633383Z",
     "iopub.status.busy": "2024-03-28T05:47:09.632608Z",
     "iopub.status.idle": "2024-03-28T05:47:09.640486Z",
     "shell.execute_reply": "2024-03-28T05:47:09.639384Z"
    },
    "papermill": {
     "duration": 0.034346,
     "end_time": "2024-03-28T05:47:09.642856",
     "exception": false,
     "start_time": "2024-03-28T05:47:09.608510",
     "status": "completed"
    },
    "tags": []
   },
   "outputs": [
    {
     "data": {
      "text/plain": [
       "(125, 125, 4)"
      ]
     },
     "execution_count": 15,
     "metadata": {},
     "output_type": "execute_result"
    }
   ],
   "source": [
    "dataset[\"X_jet\"][0].shape"
   ]
  },
  {
   "cell_type": "code",
   "execution_count": 16,
   "id": "0c0c6a8d",
   "metadata": {
    "execution": {
     "iopub.execute_input": "2024-03-28T05:47:09.689183Z",
     "iopub.status.busy": "2024-03-28T05:47:09.688102Z",
     "iopub.status.idle": "2024-03-28T05:47:31.948046Z",
     "shell.execute_reply": "2024-03-28T05:47:31.947127Z"
    },
    "papermill": {
     "duration": 22.285916,
     "end_time": "2024-03-28T05:47:31.950999",
     "exception": false,
     "start_time": "2024-03-28T05:47:09.665083",
     "status": "completed"
    },
    "tags": []
   },
   "outputs": [],
   "source": [
    "y = dataset[\"m\"]\n",
    "scaler = StandardScaler()\n",
    "dataset[\"m\"] = scaler.fit_transform(np.array(y).reshape(-1, 1))\n",
    "\n",
    "X_jet = np.stack(dataset['X_jet'].apply(np.concatenate).values).reshape(-1,125,125,4)\n",
    "mean = np.mean(X_jet, axis=(0, 1, 2))\n",
    "std = np.std(X_jet, axis=(0, 1, 2))\n",
    "X_jet = (X_jet-mean)/std"
   ]
  },
  {
   "cell_type": "code",
   "execution_count": 17,
   "id": "5efa4ef2",
   "metadata": {
    "execution": {
     "iopub.execute_input": "2024-03-28T05:47:32.006272Z",
     "iopub.status.busy": "2024-03-28T05:47:32.005453Z",
     "iopub.status.idle": "2024-03-28T05:47:34.557177Z",
     "shell.execute_reply": "2024-03-28T05:47:34.555963Z"
    },
    "papermill": {
     "duration": 2.578603,
     "end_time": "2024-03-28T05:47:34.560351",
     "exception": false,
     "start_time": "2024-03-28T05:47:31.981748",
     "status": "completed"
    },
    "tags": []
   },
   "outputs": [
    {
     "name": "stderr",
     "output_type": "stream",
     "text": [
      "/opt/conda/lib/python3.7/site-packages/ipykernel_launcher.py:2: SettingWithCopyWarning: \n",
      "A value is trying to be set on a copy of a slice from a DataFrame\n",
      "\n",
      "See the caveats in the documentation: https://pandas.pydata.org/pandas-docs/stable/user_guide/indexing.html#returning-a-view-versus-a-copy\n",
      "  \n"
     ]
    }
   ],
   "source": [
    "for i in range(len(X_jet)):\n",
    "    dataset[\"X_jet\"][i] = X_jet[i]"
   ]
  },
  {
   "cell_type": "code",
   "execution_count": 18,
   "id": "4c1f8939",
   "metadata": {
    "execution": {
     "iopub.execute_input": "2024-03-28T05:47:34.608031Z",
     "iopub.status.busy": "2024-03-28T05:47:34.607222Z",
     "iopub.status.idle": "2024-03-28T05:47:34.611977Z",
     "shell.execute_reply": "2024-03-28T05:47:34.610904Z"
    },
    "papermill": {
     "duration": 0.030194,
     "end_time": "2024-03-28T05:47:34.614237",
     "exception": false,
     "start_time": "2024-03-28T05:47:34.584043",
     "status": "completed"
    },
    "tags": []
   },
   "outputs": [],
   "source": [
    "del X_jet"
   ]
  },
  {
   "cell_type": "code",
   "execution_count": 19,
   "id": "58480f70",
   "metadata": {
    "execution": {
     "iopub.execute_input": "2024-03-28T05:47:34.659579Z",
     "iopub.status.busy": "2024-03-28T05:47:34.658658Z",
     "iopub.status.idle": "2024-03-28T05:47:35.081773Z",
     "shell.execute_reply": "2024-03-28T05:47:35.080620Z"
    },
    "papermill": {
     "duration": 0.448832,
     "end_time": "2024-03-28T05:47:35.084521",
     "exception": false,
     "start_time": "2024-03-28T05:47:34.635689",
     "status": "completed"
    },
    "tags": []
   },
   "outputs": [
    {
     "data": {
      "image/png": "[encoded data removed]",
      "text/plain": [
       "<Figure size 640x480 with 3 Axes>"
      ]
     },
     "metadata": {},
     "output_type": "display_data"
    }
   ],
   "source": [
    "fig, axes = plt.subplots(nrows=1, ncols=3)\n",
    "for i, ax in enumerate(axes.flatten()):\n",
    "    image = dataset['X_jet'][i][:,:,:]\n",
    "    ax.imshow(image)\n",
    "    ax.set_title(f'Image {i+1}')\n",
    "\n",
    "plt.show()"
   ]
  },
  {
   "cell_type": "code",
   "execution_count": 20,
   "id": "09a24952",
   "metadata": {
    "execution": {
     "iopub.execute_input": "2024-03-28T05:47:35.130388Z",
     "iopub.status.busy": "2024-03-28T05:47:35.129620Z",
     "iopub.status.idle": "2024-03-28T05:47:35.142855Z",
     "shell.execute_reply": "2024-03-28T05:47:35.142021Z"
    },
    "papermill": {
     "duration": 0.038403,
     "end_time": "2024-03-28T05:47:35.145210",
     "exception": false,
     "start_time": "2024-03-28T05:47:35.106807",
     "status": "completed"
    },
    "tags": []
   },
   "outputs": [],
   "source": [
    "train_df, val_df = train_test_split(dataset, test_size=0.2, random_state=42)"
   ]
  },
  {
   "cell_type": "code",
   "execution_count": 21,
   "id": "588b5026",
   "metadata": {
    "execution": {
     "iopub.execute_input": "2024-03-28T05:47:35.189766Z",
     "iopub.status.busy": "2024-03-28T05:47:35.189230Z",
     "iopub.status.idle": "2024-03-28T05:47:35.194357Z",
     "shell.execute_reply": "2024-03-28T05:47:35.193361Z"
    },
    "papermill": {
     "duration": 0.029362,
     "end_time": "2024-03-28T05:47:35.196573",
     "exception": false,
     "start_time": "2024-03-28T05:47:35.167211",
     "status": "completed"
    },
    "tags": []
   },
   "outputs": [],
   "source": [
    "class CFG:\n",
    "    model_name = 'DeepVit'\n",
    "    batch_size = 32\n",
    "    learning_rate = 1e-3\n",
    "    num_epochs = 25\n",
    "    random_state = 42\n",
    "    weight_decay = 1e-4"
   ]
  },
  {
   "cell_type": "code",
   "execution_count": 22,
   "id": "25026427",
   "metadata": {
    "execution": {
     "iopub.execute_input": "2024-03-28T05:47:35.241703Z",
     "iopub.status.busy": "2024-03-28T05:47:35.241158Z",
     "iopub.status.idle": "2024-03-28T05:47:35.271528Z",
     "shell.execute_reply": "2024-03-28T05:47:35.270625Z"
    },
    "papermill": {
     "duration": 0.055525,
     "end_time": "2024-03-28T05:47:35.273891",
     "exception": false,
     "start_time": "2024-03-28T05:47:35.218366",
     "status": "completed"
    },
    "tags": []
   },
   "outputs": [],
   "source": [
    "class FeedForward(nn.Module):\n",
    "    def __init__(self, dim, hidden_dim, dropout = 0.4):\n",
    "        super().__init__()\n",
    "        self.net = nn.Sequential(\n",
    "            nn.LayerNorm(dim),\n",
    "            nn.Linear(dim, hidden_dim),\n",
    "            nn.GELU(),\n",
    "            nn.Dropout(dropout),\n",
    "            nn.Linear(hidden_dim, dim),\n",
    "            nn.Dropout(dropout)\n",
    "        )\n",
    "    def forward(self, x):\n",
    "        return self.net(x)\n",
    "\n",
    "class Attention(nn.Module):\n",
    "    def __init__(self, dim, heads = 8, dim_head = 64, dropout = 0.4):\n",
    "        super().__init__()\n",
    "        inner_dim = dim_head *  heads\n",
    "        self.heads = heads\n",
    "        self.scale = dim_head ** -0.5\n",
    "\n",
    "        self.norm = nn.LayerNorm(dim)\n",
    "        self.to_qkv = nn.Linear(dim, inner_dim * 3, bias = False)\n",
    "\n",
    "        self.dropout = nn.Dropout(dropout)\n",
    "\n",
    "        self.reattn_weights = nn.Parameter(torch.randn(heads, heads))\n",
    "\n",
    "        self.reattn_norm = nn.Sequential(\n",
    "            Rearrange('b h i j -> b i j h'),\n",
    "            nn.LayerNorm(heads),\n",
    "            Rearrange('b i j h -> b h i j')\n",
    "        )\n",
    "\n",
    "        self.to_out = nn.Sequential(\n",
    "            nn.Linear(inner_dim, dim),\n",
    "            nn.Dropout(dropout)\n",
    "        )\n",
    "\n",
    "    def forward(self, x):\n",
    "        b, n, _, h = *x.shape, self.heads\n",
    "        x = self.norm(x)\n",
    "\n",
    "        qkv = self.to_qkv(x).chunk(3, dim = -1)\n",
    "        q, k, v = map(lambda t: rearrange(t, 'b n (h d) -> b h n d', h = h), qkv)\n",
    "\n",
    "        # attention\n",
    "        dots = torch.einsum('bhid,bhjd->bhij', q, k) * self.scale\n",
    "        attn = dots.softmax(dim=-1)\n",
    "\n",
    "        attn = self.dropout(attn)\n",
    "\n",
    "        # re-attention\n",
    "        attn = torch.einsum('bhij,hg->bgij', attn, self.reattn_weights)\n",
    "\n",
    "        attn = self.reattn_norm(attn)\n",
    "\n",
    "        # aggregate and out\n",
    "\n",
    "        out = torch.einsum('b h i j, b h j d -> b h i d', attn, v)\n",
    "        out = rearrange(out, 'b h n d -> b n (h d)')\n",
    "        out =  self.to_out(out)\n",
    "        return out\n",
    "\n",
    "class Transformer(nn.Module):\n",
    "    def __init__(self, dim, depth, heads, dim_head, mlp_dim, dropout = 0.):\n",
    "        super().__init__()\n",
    "        self.layers = nn.ModuleList([])\n",
    "        for _ in range(depth):\n",
    "            self.layers.append(nn.ModuleList([\n",
    "                Attention(dim, heads = heads, dim_head = dim_head, dropout = dropout),\n",
    "                FeedForward(dim, mlp_dim, dropout = dropout)\n",
    "            ]))\n",
    "    def forward(self, x):\n",
    "        for attn, ff in self.layers:\n",
    "            x = attn(x) + x\n",
    "            x = ff(x) + x\n",
    "        return x\n",
    "\n",
    "class DeepViT(nn.Module):\n",
    "    def __init__(self, *, image_size, patch_size, num_classes, dim, depth, heads, mlp_dim, pool='cls', channels=4, dim_head=64, dropout=0., emb_dropout=0.):\n",
    "        super().__init__()\n",
    "        assert image_size % patch_size == 0, 'Image dimensions must be divisible by the patch size.'\n",
    "        assert channels == 4, 'Number of input channels must be 4 for the given input format.'\n",
    "\n",
    "        num_patches = (image_size // patch_size) ** 2\n",
    "        patch_dim = channels * patch_size ** 2\n",
    "        assert pool in {'cls', 'mean'}, 'pool type must be either cls (cls token) or mean (mean pooling)'\n",
    "\n",
    "        self.to_patch_embedding = nn.Sequential(\n",
    "            Rearrange('b c (h p1) (w p2) -> b (h w) (p1 p2 c)', p1=patch_size, p2=patch_size),\n",
    "            nn.LayerNorm(patch_dim),\n",
    "            nn.Linear(patch_dim, dim),\n",
    "            nn.LayerNorm(dim)\n",
    "        )\n",
    "\n",
    "        self.pos_embedding = nn.Parameter(torch.randn(1, num_patches + 1, dim))\n",
    "        self.cls_token = nn.Parameter(torch.randn(1, 1, dim))\n",
    "        self.dropout = nn.Dropout(emb_dropout)\n",
    "\n",
    "        self.transformer = Transformer(dim, depth, heads, dim_head, mlp_dim, dropout)\n",
    "\n",
    "        self.pool = pool\n",
    "        self.to_latent = nn.Identity()\n",
    "\n",
    "        self.mlp_head = nn.Sequential(\n",
    "            nn.LayerNorm(dim),\n",
    "            nn.Linear(dim, num_classes)\n",
    "        )\n",
    "\n",
    "    def forward(self, img):\n",
    "        x = self.to_patch_embedding(img)\n",
    "        b, n, _ = x.shape\n",
    "\n",
    "        cls_tokens = repeat(self.cls_token, '() n d -> b n d', b=b)\n",
    "        x = torch.cat((cls_tokens, x), dim=1)\n",
    "        x += self.pos_embedding[:, :(n + 1)]\n",
    "        x = self.dropout(x)\n",
    "\n",
    "        x = self.transformer(x)\n",
    "\n",
    "        x = x.mean(dim=1) if self.pool == 'mean' else x[:, 0]\n",
    "\n",
    "        x = self.to_latent(x)\n",
    "        return self.mlp_head(x)"
   ]
  },
  {
   "cell_type": "code",
   "execution_count": 23,
   "id": "e21e4250",
   "metadata": {
    "execution": {
     "iopub.execute_input": "2024-03-28T05:47:35.320873Z",
     "iopub.status.busy": "2024-03-28T05:47:35.320002Z",
     "iopub.status.idle": "2024-03-28T05:47:35.723264Z",
     "shell.execute_reply": "2024-03-28T05:47:35.722322Z"
    },
    "papermill": {
     "duration": 0.429647,
     "end_time": "2024-03-28T05:47:35.726256",
     "exception": false,
     "start_time": "2024-03-28T05:47:35.296609",
     "status": "completed"
    },
    "tags": []
   },
   "outputs": [],
   "source": [
    "model = DeepViT(\n",
    "    image_size = 125,\n",
    "    patch_size = 25,\n",
    "    num_classes = 1,\n",
    "    dim = 1024,\n",
    "    depth = 6,\n",
    "    heads = 8,\n",
    "    channels = 4,\n",
    "    mlp_dim = 2048,\n",
    "    dropout = 0.1,\n",
    "    emb_dropout = 0.1\n",
    ")"
   ]
  },
  {
   "cell_type": "code",
   "execution_count": 24,
   "id": "8655bf91",
   "metadata": {
    "execution": {
     "iopub.execute_input": "2024-03-28T05:47:35.771769Z",
     "iopub.status.busy": "2024-03-28T05:47:35.771438Z",
     "iopub.status.idle": "2024-03-28T05:47:39.507870Z",
     "shell.execute_reply": "2024-03-28T05:47:39.506953Z"
    },
    "papermill": {
     "duration": 3.761939,
     "end_time": "2024-03-28T05:47:39.510471",
     "exception": false,
     "start_time": "2024-03-28T05:47:35.748532",
     "status": "completed"
    },
    "tags": []
   },
   "outputs": [],
   "source": [
    "if torch.cuda.device_count() > 1:\n",
    "    model = nn.DataParallel(model)\n",
    "model = model.to(device)\n",
    "criterion = nn.MSELoss()\n",
    "optimizer = optim.Adam(model.parameters(), lr=CFG.learning_rate, weight_decay=CFG.weight_decay)\n",
    "scheduler = ExponentialLR(optimizer, gamma=0.4) "
   ]
  },
  {
   "cell_type": "code",
   "execution_count": 25,
   "id": "56fe76a2",
   "metadata": {
    "execution": {
     "iopub.execute_input": "2024-03-28T05:47:39.557801Z",
     "iopub.status.busy": "2024-03-28T05:47:39.557097Z",
     "iopub.status.idle": "2024-03-28T05:47:42.578932Z",
     "shell.execute_reply": "2024-03-28T05:47:42.577694Z"
    },
    "papermill": {
     "duration": 3.04868,
     "end_time": "2024-03-28T05:47:42.582095",
     "exception": false,
     "start_time": "2024-03-28T05:47:39.533415",
     "status": "completed"
    },
    "tags": []
   },
   "outputs": [],
   "source": [
    "X_jets = np.stack(train_df['X_jet'].apply(np.concatenate).values)\n",
    "X_train = torch.tensor(X_jets, dtype=torch.float32).view(-1, 125,125, 4)\n",
    "y_train = pd.to_numeric(train_df['m'])\n",
    "y_train = torch.tensor(y_train.values, dtype=torch.float32)\n",
    "\n",
    "X_jets = np.stack(val_df['X_jet'].apply(np.concatenate).values)\n",
    "X_val = torch.tensor(X_jets, dtype=torch.float32).view(-1,125, 125, 4)\n",
    "\n",
    "y_val = pd.to_numeric(val_df['m'])\n",
    "y_val = torch.tensor(y_val.values, dtype=torch.float32)\n",
    "\n",
    "\n",
    "train_dataset = TensorDataset(X_train, y_train)\n",
    "val_dataset = TensorDataset(X_val, y_val)\n",
    "\n",
    "train_loader = DataLoader(train_dataset, batch_size=CFG.batch_size, shuffle=True)\n",
    "val_loader = DataLoader(val_dataset, batch_size=CFG.batch_size, shuffle=True)"
   ]
  },
  {
   "cell_type": "code",
   "execution_count": 26,
   "id": "31e87059",
   "metadata": {
    "execution": {
     "iopub.execute_input": "2024-03-28T05:47:42.632460Z",
     "iopub.status.busy": "2024-03-28T05:47:42.632037Z",
     "iopub.status.idle": "2024-03-28T05:47:42.677348Z",
     "shell.execute_reply": "2024-03-28T05:47:42.676252Z"
    },
    "papermill": {
     "duration": 0.072924,
     "end_time": "2024-03-28T05:47:42.679659",
     "exception": false,
     "start_time": "2024-03-28T05:47:42.606735",
     "status": "completed"
    },
    "tags": []
   },
   "outputs": [
    {
     "data": {
      "text/plain": [
       "torch.Size([32, 125, 125, 4])"
      ]
     },
     "execution_count": 26,
     "metadata": {},
     "output_type": "execute_result"
    }
   ],
   "source": [
    "next(iter(train_loader))[0].shape"
   ]
  },
  {
   "cell_type": "code",
   "execution_count": 27,
   "id": "95fc4d7b",
   "metadata": {
    "execution": {
     "iopub.execute_input": "2024-03-28T05:47:42.725430Z",
     "iopub.status.busy": "2024-03-28T05:47:42.724904Z",
     "iopub.status.idle": "2024-03-28T05:55:55.280219Z",
     "shell.execute_reply": "2024-03-28T05:55:55.278979Z"
    },
    "papermill": {
     "duration": 492.58068,
     "end_time": "2024-03-28T05:55:55.282646",
     "exception": false,
     "start_time": "2024-03-28T05:47:42.701966",
     "status": "completed"
    },
    "tags": []
   },
   "outputs": [
    {
     "name": "stderr",
     "output_type": "stream",
     "text": [
      "Epoch 1/25 (Training): 100%|██████████| 192/192 [00:22<00:00,  8.39it/s]\n",
      "Epoch 1/25 (Validation):   0%|          | 0/48 [00:00<?, ?it/s]/opt/conda/lib/python3.7/site-packages/torch/nn/modules/loss.py:536: UserWarning: Using a target size (torch.Size([32])) that is different to the input size (torch.Size([32, 1])). This will likely lead to incorrect results due to broadcasting. Please ensure they have the same size.\n",
      "  return F.mse_loss(input, target, reduction=self.reduction)\n",
      "Epoch 1/25 (Validation): 100%|██████████| 48/48 [00:01<00:00, 28.18it/s]\n"
     ]
    },
    {
     "name": "stdout",
     "output_type": "stream",
     "text": [
      "Epoch 1/25, Train Loss: 2.2910, Val Loss: 1.0468, MAE: 28.2551, MRE: 53.1900\n"
     ]
    },
    {
     "name": "stderr",
     "output_type": "stream",
     "text": [
      "Epoch 2/25 (Training): 100%|██████████| 192/192 [00:17<00:00, 10.78it/s]\n",
      "Epoch 2/25 (Validation): 100%|██████████| 48/48 [00:01<00:00, 27.96it/s]\n"
     ]
    },
    {
     "name": "stdout",
     "output_type": "stream",
     "text": [
      "Epoch 2/25, Train Loss: 1.0168, Val Loss: 1.0053, MAE: 27.8867, MRE: 40.5672\n"
     ]
    },
    {
     "name": "stderr",
     "output_type": "stream",
     "text": [
      "Epoch 3/25 (Training): 100%|██████████| 192/192 [00:17<00:00, 10.93it/s]\n",
      "Epoch 3/25 (Validation): 100%|██████████| 48/48 [00:01<00:00, 28.29it/s]\n"
     ]
    },
    {
     "name": "stdout",
     "output_type": "stream",
     "text": [
      "Epoch 3/25, Train Loss: 0.9926, Val Loss: 1.0094, MAE: 27.8555, MRE: 39.7913\n"
     ]
    },
    {
     "name": "stderr",
     "output_type": "stream",
     "text": [
      "Epoch 4/25 (Training): 100%|██████████| 192/192 [00:17<00:00, 10.86it/s]\n",
      "Epoch 4/25 (Validation): 100%|██████████| 48/48 [00:01<00:00, 27.69it/s]\n"
     ]
    },
    {
     "name": "stdout",
     "output_type": "stream",
     "text": [
      "Epoch 4/25, Train Loss: 0.9432, Val Loss: 1.0516, MAE: 28.2206, MRE: 50.1168\n"
     ]
    },
    {
     "name": "stderr",
     "output_type": "stream",
     "text": [
      "Epoch 5/25 (Training): 100%|██████████| 192/192 [00:17<00:00, 10.87it/s]\n",
      "Epoch 5/25 (Validation): 100%|██████████| 48/48 [00:01<00:00, 28.69it/s]\n"
     ]
    },
    {
     "name": "stdout",
     "output_type": "stream",
     "text": [
      "Epoch 5/25, Train Loss: 0.8352, Val Loss: 1.1161, MAE: 28.7988, MRE: 61.0838\n"
     ]
    },
    {
     "name": "stderr",
     "output_type": "stream",
     "text": [
      "Epoch 6/25 (Training): 100%|██████████| 192/192 [00:17<00:00, 10.92it/s]\n",
      "Epoch 6/25 (Validation): 100%|██████████| 48/48 [00:01<00:00, 27.64it/s]\n"
     ]
    },
    {
     "name": "stdout",
     "output_type": "stream",
     "text": [
      "Epoch 6/25, Train Loss: 0.7214, Val Loss: 1.1602, MAE: 29.1545, MRE: 65.5315\n"
     ]
    },
    {
     "name": "stderr",
     "output_type": "stream",
     "text": [
      "Epoch 7/25 (Training): 100%|██████████| 192/192 [00:18<00:00, 10.63it/s]\n",
      "Epoch 7/25 (Validation): 100%|██████████| 48/48 [00:01<00:00, 27.80it/s]\n"
     ]
    },
    {
     "name": "stdout",
     "output_type": "stream",
     "text": [
      "Epoch 7/25, Train Loss: 0.6681, Val Loss: 1.1804, MAE: 29.3739, MRE: 67.6969\n"
     ]
    },
    {
     "name": "stderr",
     "output_type": "stream",
     "text": [
      "Epoch 8/25 (Training): 100%|██████████| 192/192 [00:17<00:00, 10.88it/s]\n",
      "Epoch 8/25 (Validation): 100%|██████████| 48/48 [00:01<00:00, 24.25it/s]\n"
     ]
    },
    {
     "name": "stdout",
     "output_type": "stream",
     "text": [
      "Epoch 8/25, Train Loss: 0.6355, Val Loss: 1.1841, MAE: 29.3788, MRE: 70.1966\n"
     ]
    },
    {
     "name": "stderr",
     "output_type": "stream",
     "text": [
      "Epoch 9/25 (Training): 100%|██████████| 192/192 [00:17<00:00, 10.75it/s]\n",
      "Epoch 9/25 (Validation): 100%|██████████| 48/48 [00:01<00:00, 28.27it/s]\n"
     ]
    },
    {
     "name": "stdout",
     "output_type": "stream",
     "text": [
      "Epoch 9/25, Train Loss: 0.6284, Val Loss: 1.1927, MAE: 29.4578, MRE: 66.7619\n"
     ]
    },
    {
     "name": "stderr",
     "output_type": "stream",
     "text": [
      "Epoch 10/25 (Training): 100%|██████████| 192/192 [00:17<00:00, 10.84it/s]\n",
      "Epoch 10/25 (Validation): 100%|██████████| 48/48 [00:01<00:00, 27.92it/s]\n"
     ]
    },
    {
     "name": "stdout",
     "output_type": "stream",
     "text": [
      "Epoch 10/25, Train Loss: 0.6279, Val Loss: 1.1952, MAE: 29.4827, MRE: 68.5710\n"
     ]
    },
    {
     "name": "stderr",
     "output_type": "stream",
     "text": [
      "Epoch 11/25 (Training): 100%|██████████| 192/192 [00:17<00:00, 10.91it/s]\n",
      "Epoch 11/25 (Validation): 100%|██████████| 48/48 [00:01<00:00, 28.80it/s]\n"
     ]
    },
    {
     "name": "stdout",
     "output_type": "stream",
     "text": [
      "Epoch 11/25, Train Loss: 0.6212, Val Loss: 1.1971, MAE: 29.5317, MRE: 68.6669\n"
     ]
    },
    {
     "name": "stderr",
     "output_type": "stream",
     "text": [
      "Epoch 12/25 (Training): 100%|██████████| 192/192 [00:17<00:00, 10.82it/s]\n",
      "Epoch 12/25 (Validation): 100%|██████████| 48/48 [00:01<00:00, 28.62it/s]\n"
     ]
    },
    {
     "name": "stdout",
     "output_type": "stream",
     "text": [
      "Epoch 12/25, Train Loss: 0.6217, Val Loss: 1.1946, MAE: 29.4807, MRE: 67.9945\n"
     ]
    },
    {
     "name": "stderr",
     "output_type": "stream",
     "text": [
      "Epoch 13/25 (Training): 100%|██████████| 192/192 [00:17<00:00, 10.89it/s]\n",
      "Epoch 13/25 (Validation): 100%|██████████| 48/48 [00:01<00:00, 28.73it/s]\n"
     ]
    },
    {
     "name": "stdout",
     "output_type": "stream",
     "text": [
      "Epoch 13/25, Train Loss: 0.6260, Val Loss: 1.2023, MAE: 29.5888, MRE: 69.7192\n"
     ]
    },
    {
     "name": "stderr",
     "output_type": "stream",
     "text": [
      "Epoch 14/25 (Training): 100%|██████████| 192/192 [00:17<00:00, 10.75it/s]\n",
      "Epoch 14/25 (Validation): 100%|██████████| 48/48 [00:01<00:00, 28.48it/s]\n"
     ]
    },
    {
     "name": "stdout",
     "output_type": "stream",
     "text": [
      "Epoch 14/25, Train Loss: 0.6217, Val Loss: 1.2009, MAE: 29.5425, MRE: 70.5573\n"
     ]
    },
    {
     "name": "stderr",
     "output_type": "stream",
     "text": [
      "Epoch 15/25 (Training): 100%|██████████| 192/192 [00:17<00:00, 10.81it/s]\n",
      "Epoch 15/25 (Validation): 100%|██████████| 48/48 [00:01<00:00, 27.95it/s]\n"
     ]
    },
    {
     "name": "stdout",
     "output_type": "stream",
     "text": [
      "Epoch 15/25, Train Loss: 0.6157, Val Loss: 1.2013, MAE: 29.5451, MRE: 71.3579\n"
     ]
    },
    {
     "name": "stderr",
     "output_type": "stream",
     "text": [
      "Epoch 16/25 (Training): 100%|██████████| 192/192 [00:17<00:00, 10.87it/s]\n",
      "Epoch 16/25 (Validation): 100%|██████████| 48/48 [00:01<00:00, 25.66it/s]\n"
     ]
    },
    {
     "name": "stdout",
     "output_type": "stream",
     "text": [
      "Epoch 16/25, Train Loss: 0.6229, Val Loss: 1.1934, MAE: 29.4546, MRE: 69.8453\n"
     ]
    },
    {
     "name": "stderr",
     "output_type": "stream",
     "text": [
      "Epoch 17/25 (Training): 100%|██████████| 192/192 [00:17<00:00, 10.69it/s]\n",
      "Epoch 17/25 (Validation): 100%|██████████| 48/48 [00:01<00:00, 28.80it/s]\n"
     ]
    },
    {
     "name": "stdout",
     "output_type": "stream",
     "text": [
      "Epoch 17/25, Train Loss: 0.6210, Val Loss: 1.2000, MAE: 29.5747, MRE: 68.9351\n"
     ]
    },
    {
     "name": "stderr",
     "output_type": "stream",
     "text": [
      "Epoch 18/25 (Training): 100%|██████████| 192/192 [00:17<00:00, 10.78it/s]\n",
      "Epoch 18/25 (Validation): 100%|██████████| 48/48 [00:01<00:00, 28.05it/s]\n"
     ]
    },
    {
     "name": "stdout",
     "output_type": "stream",
     "text": [
      "Epoch 18/25, Train Loss: 0.6232, Val Loss: 1.1924, MAE: 29.4755, MRE: 71.0570\n"
     ]
    },
    {
     "name": "stderr",
     "output_type": "stream",
     "text": [
      "Epoch 19/25 (Training): 100%|██████████| 192/192 [00:17<00:00, 10.88it/s]\n",
      "Epoch 19/25 (Validation): 100%|██████████| 48/48 [00:01<00:00, 28.32it/s]\n"
     ]
    },
    {
     "name": "stdout",
     "output_type": "stream",
     "text": [
      "Epoch 19/25, Train Loss: 0.6228, Val Loss: 1.1969, MAE: 29.5328, MRE: 71.6054\n"
     ]
    },
    {
     "name": "stderr",
     "output_type": "stream",
     "text": [
      "Epoch 20/25 (Training): 100%|██████████| 192/192 [00:17<00:00, 10.87it/s]\n",
      "Epoch 20/25 (Validation): 100%|██████████| 48/48 [00:01<00:00, 27.00it/s]\n"
     ]
    },
    {
     "name": "stdout",
     "output_type": "stream",
     "text": [
      "Epoch 20/25, Train Loss: 0.6276, Val Loss: 1.1953, MAE: 29.5002, MRE: 68.7393\n"
     ]
    },
    {
     "name": "stderr",
     "output_type": "stream",
     "text": [
      "Epoch 21/25 (Training): 100%|██████████| 192/192 [00:17<00:00, 10.84it/s]\n",
      "Epoch 21/25 (Validation): 100%|██████████| 48/48 [00:01<00:00, 28.29it/s]\n"
     ]
    },
    {
     "name": "stdout",
     "output_type": "stream",
     "text": [
      "Epoch 21/25, Train Loss: 0.6189, Val Loss: 1.2001, MAE: 29.5660, MRE: 67.1437\n"
     ]
    },
    {
     "name": "stderr",
     "output_type": "stream",
     "text": [
      "Epoch 22/25 (Training): 100%|██████████| 192/192 [00:17<00:00, 10.72it/s]\n",
      "Epoch 22/25 (Validation): 100%|██████████| 48/48 [00:01<00:00, 28.44it/s]\n"
     ]
    },
    {
     "name": "stdout",
     "output_type": "stream",
     "text": [
      "Epoch 22/25, Train Loss: 0.6202, Val Loss: 1.1977, MAE: 29.5159, MRE: 71.3000\n"
     ]
    },
    {
     "name": "stderr",
     "output_type": "stream",
     "text": [
      "Epoch 23/25 (Training): 100%|██████████| 192/192 [00:17<00:00, 10.86it/s]\n",
      "Epoch 23/25 (Validation): 100%|██████████| 48/48 [00:01<00:00, 28.19it/s]\n"
     ]
    },
    {
     "name": "stdout",
     "output_type": "stream",
     "text": [
      "Epoch 23/25, Train Loss: 0.6072, Val Loss: 1.1940, MAE: 29.4635, MRE: 70.7605\n"
     ]
    },
    {
     "name": "stderr",
     "output_type": "stream",
     "text": [
      "Epoch 24/25 (Training): 100%|██████████| 192/192 [00:17<00:00, 10.91it/s]\n",
      "Epoch 24/25 (Validation): 100%|██████████| 48/48 [00:02<00:00, 22.54it/s]\n"
     ]
    },
    {
     "name": "stdout",
     "output_type": "stream",
     "text": [
      "Epoch 24/25, Train Loss: 0.6257, Val Loss: 1.1993, MAE: 29.5373, MRE: 73.3018\n"
     ]
    },
    {
     "name": "stderr",
     "output_type": "stream",
     "text": [
      "Epoch 25/25 (Training): 100%|██████████| 192/192 [00:17<00:00, 10.90it/s]\n",
      "Epoch 25/25 (Validation): 100%|██████████| 48/48 [00:01<00:00, 27.53it/s]\n"
     ]
    },
    {
     "name": "stdout",
     "output_type": "stream",
     "text": [
      "Epoch 25/25, Train Loss: 0.6159, Val Loss: 1.1982, MAE: 29.4879, MRE: 69.7402\n",
      "Model saved successfully.\n",
      "Finished training\n"
     ]
    }
   ],
   "source": [
    "train_losses = []\n",
    "val_losses = []\n",
    "mae_losses = []\n",
    "mre_losses = []\n",
    "\n",
    "best_val_loss = float('inf')\n",
    "best_mre = float('inf')\n",
    "best_val_loss_model = None\n",
    "best_mre_model = None\n",
    "\n",
    "for epoch in range(CFG.num_epochs):\n",
    "    model.train()\n",
    "    train_loss = 0.0\n",
    "    train_preds_list = []\n",
    "\n",
    "    for inputs, labels in tqdm(train_loader, desc=f'Epoch {epoch + 1}/{CFG.num_epochs} (Training)'):\n",
    "        inputs, labels = inputs.to(device), labels.to(device)\n",
    "        inputs = inputs.permute(0, 3, 1, 2)\n",
    "        \n",
    "        optimizer.zero_grad()\n",
    "\n",
    "        outputs = model(inputs)\n",
    "        loss = criterion(outputs.squeeze(), labels.squeeze())\n",
    "        loss.backward()\n",
    "        optimizer.step()\n",
    "\n",
    "        train_loss += loss.item()\n",
    "        train_preds_list.append(outputs.detach().cpu().numpy())\n",
    "\n",
    "    train_loss /= len(train_loader)\n",
    "    train_preds = np.concatenate(train_preds_list)\n",
    "\n",
    "    model.eval()\n",
    "    val_loss = 0.0\n",
    "    mae_loss = 0.0\n",
    "    mre_loss = 0.0\n",
    "    val_preds_list = []\n",
    "\n",
    "    for inputs, labels in tqdm(val_loader, desc=f'Epoch {epoch + 1}/{CFG.num_epochs} (Validation)'):\n",
    "        inputs = inputs.permute(0, 3, 1, 2)\n",
    "        val_inputs, val_labels = inputs.to(device), labels.to(device)\n",
    "        val_outputs = model(val_inputs)\n",
    "        val_loss += criterion(val_outputs, val_labels).item()\n",
    "        val_preds_list.append(val_outputs.detach().cpu().numpy())\n",
    "        mae_loss += torch.abs(val_outputs - val_labels).sum().item()\n",
    "        absolute_errors = torch.abs(val_outputs - val_labels)\n",
    "        mre_loss += (absolute_errors / (torch.abs(val_labels) + 1e-6)).sum().item()\n",
    "\n",
    "    val_loss /= len(val_loader)\n",
    "    mae_loss /= len(val_loader.dataset)\n",
    "    mre_loss /= len(val_loader.dataset)\n",
    "    \n",
    "    train_losses.append(train_loss)\n",
    "    val_losses.append(val_loss)\n",
    "    mae_losses.append(mae_loss)\n",
    "    mre_losses.append(mre_loss)\n",
    "  \n",
    "    \n",
    "    if val_loss < best_val_loss:\n",
    "        best_val_loss = val_loss\n",
    "        best_val_loss_model = model.state_dict()\n",
    "\n",
    "    if mre_loss < best_mre:\n",
    "        best_mre = mre_loss\n",
    "        best_mre_model = model.state_dict()\n",
    "    scheduler.step()\n",
    "    print(f\"Epoch {epoch + 1}/{CFG.num_epochs}, Train Loss: {train_loss:.4f}, Val Loss: {val_loss:.4f}, MAE: {mae_loss:.4f}, MRE: {mre_loss:.4f}\")\n",
    "    \n",
    "torch.save(best_val_loss_model, 'best_model_val_loss.pth')\n",
    "torch.save(best_mre_model, 'best_model_mre.pth')\n",
    "print(\"Model saved successfully.\")\n",
    "print(\"Finished training\")"
   ]
  },
  {
   "cell_type": "code",
   "execution_count": 28,
   "id": "0a05dcce",
   "metadata": {
    "execution": {
     "iopub.execute_input": "2024-03-28T05:55:55.797495Z",
     "iopub.status.busy": "2024-03-28T05:55:55.796692Z",
     "iopub.status.idle": "2024-03-28T05:56:03.332002Z",
     "shell.execute_reply": "2024-03-28T05:56:03.330670Z"
    },
    "papermill": {
     "duration": 7.799525,
     "end_time": "2024-03-28T05:56:03.337321",
     "exception": false,
     "start_time": "2024-03-28T05:55:55.537796",
     "status": "completed"
    },
    "tags": []
   },
   "outputs": [
    {
     "data": {
      "image/png": "[encoded data removed]",
      "text/plain": [
       "<Figure size 640x480 with 1 Axes>"
      ]
     },
     "metadata": {},
     "output_type": "display_data"
    }
   ],
   "source": [
    "checkpoint = torch.load(\"/kaggle/working/best_model_val_loss.pth\")\n",
    "model = DeepViT(\n",
    "    image_size = 125,\n",
    "    patch_size = 25,\n",
    "    num_classes = 1,\n",
    "    dim = 1024,\n",
    "    depth = 6,\n",
    "    heads = 8,\n",
    "    channels = 4,\n",
    "    mlp_dim = 2048,\n",
    "    dropout = 0.1,\n",
    "    emb_dropout = 0.1\n",
    ")\n",
    "\n",
    "if torch.cuda.device_count() > 1:\n",
    "    model = nn.DataParallel(model)\n",
    "model.load_state_dict(checkpoint)\n",
    "model = model.to(device)\n",
    "model.eval()\n",
    "\n",
    "y_true = []\n",
    "y_pred = []\n",
    "\n",
    "with torch.no_grad():\n",
    "    for data, target in train_loader:\n",
    "        data, target = data.to(device), target.to(device)\n",
    "        data = data.permute(0, 3, 1, 2)\n",
    "        output = model(data)\n",
    "        y_true.extend(target.cpu().numpy().tolist())\n",
    "        y_pred.extend(output.cpu().numpy().tolist())\n",
    "\n",
    "plt.scatter(y_true, range(len(train_dataset)), color='red', label='actual')\n",
    "plt.scatter(y_pred, range(len(train_dataset)), color='blue', marker='+', label=\"predicted\")\n",
    "plt.xlabel('Actual')\n",
    "plt.ylabel('Predicted')\n",
    "plt.legend()\n",
    "plt.title('Actual vs Predicted')\n",
    "plt.show()"
   ]
  },
  {
   "cell_type": "code",
   "execution_count": 29,
   "id": "4ef6ff34",
   "metadata": {
    "execution": {
     "iopub.execute_input": "2024-03-28T05:56:03.874423Z",
     "iopub.status.busy": "2024-03-28T05:56:03.873655Z",
     "iopub.status.idle": "2024-03-28T05:56:03.941334Z",
     "shell.execute_reply": "2024-03-28T05:56:03.940118Z"
    },
    "papermill": {
     "duration": 0.324203,
     "end_time": "2024-03-28T05:56:03.943812",
     "exception": false,
     "start_time": "2024-03-28T05:56:03.619609",
     "status": "completed"
    },
    "tags": []
   },
   "outputs": [
    {
     "name": "stderr",
     "output_type": "stream",
     "text": [
      "/opt/conda/lib/python3.7/site-packages/torch/nn/modules/loss.py:536: UserWarning: Using a target size (torch.Size([6140])) that is different to the input size (torch.Size([6140, 1])). This will likely lead to incorrect results due to broadcasting. Please ensure they have the same size.\n",
      "  return F.mse_loss(input, target, reduction=self.reduction)\n"
     ]
    },
    {
     "data": {
      "text/plain": [
       "tensor(1.2714)"
      ]
     },
     "execution_count": 29,
     "metadata": {},
     "output_type": "execute_result"
    }
   ],
   "source": [
    "criterion(torch.tensor(y_pred),torch.tensor(y_true))"
   ]
  },
  {
   "cell_type": "code",
   "execution_count": 30,
   "id": "4248a69b",
   "metadata": {
    "execution": {
     "iopub.execute_input": "2024-03-28T05:56:04.454190Z",
     "iopub.status.busy": "2024-03-28T05:56:04.453240Z",
     "iopub.status.idle": "2024-03-28T05:56:12.175672Z",
     "shell.execute_reply": "2024-03-28T05:56:12.174503Z"
    },
    "papermill": {
     "duration": 7.98211,
     "end_time": "2024-03-28T05:56:12.178137",
     "exception": false,
     "start_time": "2024-03-28T05:56:04.196027",
     "status": "completed"
    },
    "tags": []
   },
   "outputs": [
    {
     "data": {
      "image/png": "[encoded data removed]",
      "text/plain": [
       "<Figure size 640x480 with 1 Axes>"
      ]
     },
     "metadata": {},
     "output_type": "display_data"
    }
   ],
   "source": [
    "checkpoint = torch.load(\"/kaggle/working/best_model_mre.pth\")\n",
    "modell = DeepViT(\n",
    "    image_size = 125,\n",
    "    patch_size = 25,\n",
    "    num_classes = 1,\n",
    "    dim = 1024,\n",
    "    depth = 6,\n",
    "    heads = 8,\n",
    "    channels = 4,\n",
    "    mlp_dim = 2048,\n",
    "    dropout = 0.1,\n",
    "    emb_dropout = 0.1\n",
    ")\n",
    "\n",
    "if torch.cuda.device_count() > 1:\n",
    "    modell = nn.DataParallel(modell)\n",
    "modell.load_state_dict(checkpoint)\n",
    "modell = modell.to(device)\n",
    "modell.eval()\n",
    "\n",
    "y_true = []\n",
    "y_pred = []\n",
    "\n",
    "with torch.no_grad():\n",
    "    for data, target in train_loader:\n",
    "        data, target = data.to(device), target.to(device)\n",
    "        data = data.permute(0, 3, 1, 2)\n",
    "        output = modell(data)\n",
    "        y_true.extend(target.cpu().numpy().tolist())\n",
    "        y_pred.extend(output.cpu().numpy().tolist())\n",
    "\n",
    "plt.scatter(y_true, range(len(train_dataset)), color='red', label='actual')\n",
    "plt.scatter(y_pred, range(len(train_dataset)), color='blue', marker='+', label=\"predicted\")\n",
    "plt.xlabel('Actual')\n",
    "plt.ylabel('Predicted')\n",
    "plt.legend()\n",
    "plt.title('Actual vs Predicted')\n",
    "plt.show()\n"
   ]
  },
  {
   "cell_type": "code",
   "execution_count": 31,
   "id": "62c34f83",
   "metadata": {
    "execution": {
     "iopub.execute_input": "2024-03-28T05:56:12.697322Z",
     "iopub.status.busy": "2024-03-28T05:56:12.696518Z",
     "iopub.status.idle": "2024-03-28T05:56:12.722700Z",
     "shell.execute_reply": "2024-03-28T05:56:12.721647Z"
    },
    "papermill": {
     "duration": 0.285706,
     "end_time": "2024-03-28T05:56:12.725330",
     "exception": false,
     "start_time": "2024-03-28T05:56:12.439624",
     "status": "completed"
    },
    "tags": []
   },
   "outputs": [
    {
     "data": {
      "text/plain": [
       "tensor(1.2714)"
      ]
     },
     "execution_count": 31,
     "metadata": {},
     "output_type": "execute_result"
    }
   ],
   "source": [
    "criterion(torch.tensor(y_pred),torch.tensor(y_true))"
   ]
  },
  {
   "cell_type": "code",
   "execution_count": 32,
   "id": "661ca8ed",
   "metadata": {
    "execution": {
     "iopub.execute_input": "2024-03-28T05:56:13.286427Z",
     "iopub.status.busy": "2024-03-28T05:56:13.285573Z",
     "iopub.status.idle": "2024-03-28T05:56:13.524287Z",
     "shell.execute_reply": "2024-03-28T05:56:13.523224Z"
    },
    "papermill": {
     "duration": 0.499396,
     "end_time": "2024-03-28T05:56:13.526567",
     "exception": false,
     "start_time": "2024-03-28T05:56:13.027171",
     "status": "completed"
    },
    "tags": []
   },
   "outputs": [
    {
     "data": {
      "image/png": "[encoded data removed]",
      "text/plain": [
       "<Figure size 640x480 with 1 Axes>"
      ]
     },
     "metadata": {},
     "output_type": "display_data"
    }
   ],
   "source": [
    "plt.plot( train_losses, label='Training Loss')\n",
    "plt.plot( val_losses, label='Val Loss')\n",
    "plt.xlabel('Epoch')\n",
    "plt.ylabel('Loss')\n",
    "plt.legend()\n",
    "plt.show()"
   ]
  },
  {
   "cell_type": "code",
   "execution_count": 33,
   "id": "8f0e316d",
   "metadata": {
    "execution": {
     "iopub.execute_input": "2024-03-28T05:56:14.031196Z",
     "iopub.status.busy": "2024-03-28T05:56:14.030350Z",
     "iopub.status.idle": "2024-03-28T05:56:16.108542Z",
     "shell.execute_reply": "2024-03-28T05:56:16.107463Z"
    },
    "papermill": {
     "duration": 2.337024,
     "end_time": "2024-03-28T05:56:16.111204",
     "exception": false,
     "start_time": "2024-03-28T05:56:13.774180",
     "status": "completed"
    },
    "tags": []
   },
   "outputs": [
    {
     "data": {
      "image/png": "[encoded data removed]",
      "text/plain": [
       "<Figure size 640x480 with 1 Axes>"
      ]
     },
     "metadata": {},
     "output_type": "display_data"
    }
   ],
   "source": [
    "model.eval()\n",
    "y_true = []\n",
    "y_pred = []\n",
    "\n",
    "with torch.no_grad():\n",
    "    for batch_idx, (data, target) in enumerate(val_loader):\n",
    "        data, target = data.to(device), target.to(device)\n",
    "        data = data.permute(0, 3, 1, 2)\n",
    "        output = model(data)\n",
    "        \n",
    "        y_true.extend(target.cpu().numpy().tolist())\n",
    "        y_pred.extend(output.cpu().numpy().tolist())\n",
    "\n",
    "plt.scatter(y_true, range(len(val_dataset)), color='red', label='actual')\n",
    "plt.scatter(y_pred, range(len(val_dataset)), color='blue', marker='+', label=\"predicted\")\n",
    "plt.xlabel('Actual')\n",
    "plt.ylabel('Predicted')\n",
    "plt.legend()\n",
    "plt.title('Actual vs Predicted')\n",
    "plt.show()"
   ]
  },
  {
   "cell_type": "code",
   "execution_count": 34,
   "id": "e4d66567",
   "metadata": {
    "execution": {
     "iopub.execute_input": "2024-03-28T05:56:16.640826Z",
     "iopub.status.busy": "2024-03-28T05:56:16.640399Z",
     "iopub.status.idle": "2024-03-28T05:56:16.650848Z",
     "shell.execute_reply": "2024-03-28T05:56:16.649770Z"
    },
    "papermill": {
     "duration": 0.280049,
     "end_time": "2024-03-28T05:56:16.653454",
     "exception": false,
     "start_time": "2024-03-28T05:56:16.373405",
     "status": "completed"
    },
    "tags": []
   },
   "outputs": [
    {
     "name": "stderr",
     "output_type": "stream",
     "text": [
      "/opt/conda/lib/python3.7/site-packages/torch/nn/modules/loss.py:536: UserWarning: Using a target size (torch.Size([1536])) that is different to the input size (torch.Size([1536, 1])). This will likely lead to incorrect results due to broadcasting. Please ensure they have the same size.\n",
      "  return F.mse_loss(input, target, reduction=self.reduction)\n"
     ]
    },
    {
     "data": {
      "text/plain": [
       "tensor(1.2054)"
      ]
     },
     "execution_count": 34,
     "metadata": {},
     "output_type": "execute_result"
    }
   ],
   "source": [
    "criterion(torch.tensor(y_pred),torch.tensor(y_true))"
   ]
  }
 ],
 "metadata": {
  "kaggle": {
   "accelerator": "nvidiaTeslaT4",
   "dataSources": [
    {
     "datasetId": 4576476,
     "sourceId": 7813001,
     "sourceType": "datasetVersion"
    }
   ],
   "dockerImageVersionId": 30408,
   "isGpuEnabled": true,
   "isInternetEnabled": true,
   "language": "python",
   "sourceType": "notebook"
  },
  "kernelspec": {
   "display_name": "Python 3",
   "language": "python",
   "name": "python3"
  },
  "language_info": {
   "codemirror_mode": {
    "name": "ipython",
    "version": 3
   },
   "file_extension": ".py",
   "mimetype": "text/x-python",
   "name": "python",
   "nbconvert_exporter": "python",
   "pygments_lexer": "ipython3",
   "version": "3.7.12"
  },
  "papermill": {
   "default_parameters": {},
   "duration": 819.496299,
   "end_time": "2024-03-28T05:56:20.986899",
   "environment_variables": {},
   "exception": null,
   "input_path": "__notebook__.ipynb",
   "output_path": "__notebook__.ipynb",
   "parameters": {},
   "start_time": "2024-03-28T05:42:41.490600",
   "version": "2.4.0"
  }
 },
 "nbformat": 4,
 "nbformat_minor": 5
}
